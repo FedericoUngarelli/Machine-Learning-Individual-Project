{
 "cells": [
  {
   "cell_type": "markdown",
   "metadata": {},
   "source": [
    "# DESCRIPTION\n"
   ]
  },
  {
   "cell_type": "markdown",
   "metadata": {},
   "source": [
    "This dataset is composed of 1100 samples with 20 features each. The first column\n",
    "is the sample id. The second column in the dataset represents the label. There\n",
    "are 5 possible values for the labels. The remaining columns are numeric\n",
    "features.\n",
    "\n",
    "Your task is the following: you should compare the performance of the\n",
    "k-NearestNeighbors algorithm (implemented by\n",
    "sklearn.neighbors.KNeighborsClassifier) with that of a Random Forest\n",
    "(implemented by sklearn.ensemble.RandomForestClassifier). Try to optimize both\n",
    "algorithms' parameters and determine which one is best for this dataset. At the\n",
    "end of the analysis, you should have chosen an algorithm and its optimal set of\n",
    "parameters: write this choice explicitly in the conclusions of your notebook.\n",
    "\n",
    "Your notebook should detail the procedure you have used to choose the optimal\n",
    "parameters (graphs are a good idea when possible/sensible).\n",
    "\n",
    "The notebook will be evaluated not only based on the final results, but also on\n",
    "the procedure employed, which should balance practical considerations (one may\n",
    "not be able to exhaustively explore all possible combinations of the parameters)\n",
    "with the desire for achieving the best possible performance in the least amount\n",
    "of time.\n",
    "\n",
    "Bonus points may be assigned for particularly clean/nifty code and/or well-\n",
    "presented results.\n",
    "\n",
    "You are also free to attempt other strategies beyond the one in the assignment\n",
    "(which however is mandatory!)."
   ]
  },
  {
   "cell_type": "markdown",
   "metadata": {},
   "source": [
    "# Setup\n"
   ]
  },
  {
   "cell_type": "markdown",
   "metadata": {},
   "source": [
    "First, let's make sure this notebook works well in both python 2 and 3, import a few common modules, ensure MatplotLib plots figures inline and prepare a function to save the figures:"
   ]
  },
  {
   "cell_type": "code",
   "execution_count": 1,
   "metadata": {},
   "outputs": [],
   "source": [
    "from __future__ import division, print_function, unicode_literals\n",
    "\n",
    "# Common imports\n",
    "import numpy as np\n",
    "import os\n",
    "import tarfile\n",
    "import pandas as pd\n",
    "from sklearn.preprocessing import StandardScaler\n",
    "\n",
    "\n",
    "# To plot pretty figures\n",
    "%matplotlib inline\n",
    "import matplotlib as mpl\n",
    "import matplotlib.pyplot as plt\n",
    "mpl.rc('axes', labelsize=14)\n",
    "mpl.rc('xtick', labelsize=12)\n",
    "mpl.rc('ytick', labelsize=12)\n",
    "\n",
    "# Where to save the figures\n",
    "PROJECT_ROOT_DIR = \".\"\n",
    "CHAPTER_ID = \"end_to_end_project\"\n",
    "IMAGES_PATH = os.path.join(PROJECT_ROOT_DIR, \"images\", CHAPTER_ID)\n",
    "\n",
    "def save_fig(fig_id, tight_layout=True, fig_extension=\"png\", resolution=300):\n",
    "    path = os.path.join(IMAGES_PATH, fig_id + \".\" + fig_extension)\n",
    "    print(\"Saving figure\", fig_id)\n",
    "    if tight_layout:\n",
    "        plt.tight_layout()\n",
    "    plt.savefig(path, format=fig_extension, dpi=resolution)\n",
    "\n",
    "# Ignore useless warnings (see SciPy issue #5998)\n",
    "import warnings\n",
    "warnings.filterwarnings(action=\"ignore\", message=\"^internal gelsd\")"
   ]
  },
  {
   "cell_type": "markdown",
   "metadata": {},
   "source": [
    "# Get and visualize the Data"
   ]
  },
  {
   "cell_type": "code",
   "execution_count": 2,
   "metadata": {},
   "outputs": [
    {
     "data": {
      "text/html": [
       "<div>\n",
       "<style scoped>\n",
       "    .dataframe tbody tr th:only-of-type {\n",
       "        vertical-align: middle;\n",
       "    }\n",
       "\n",
       "    .dataframe tbody tr th {\n",
       "        vertical-align: top;\n",
       "    }\n",
       "\n",
       "    .dataframe thead th {\n",
       "        text-align: right;\n",
       "    }\n",
       "</style>\n",
       "<table border=\"1\" class=\"dataframe\">\n",
       "  <thead>\n",
       "    <tr style=\"text-align: right;\">\n",
       "      <th></th>\n",
       "      <th>Unnamed: 0</th>\n",
       "      <th>label</th>\n",
       "      <th>feature_1</th>\n",
       "      <th>feature_2</th>\n",
       "      <th>feature_3</th>\n",
       "      <th>feature_4</th>\n",
       "      <th>feature_5</th>\n",
       "      <th>feature_6</th>\n",
       "      <th>feature_7</th>\n",
       "      <th>feature_8</th>\n",
       "      <th>...</th>\n",
       "      <th>feature_11</th>\n",
       "      <th>feature_12</th>\n",
       "      <th>feature_13</th>\n",
       "      <th>feature_14</th>\n",
       "      <th>feature_15</th>\n",
       "      <th>feature_16</th>\n",
       "      <th>feature_17</th>\n",
       "      <th>feature_18</th>\n",
       "      <th>feature_19</th>\n",
       "      <th>feature_20</th>\n",
       "    </tr>\n",
       "  </thead>\n",
       "  <tbody>\n",
       "    <tr>\n",
       "      <th>0</th>\n",
       "      <td>0</td>\n",
       "      <td>2</td>\n",
       "      <td>-1.383194</td>\n",
       "      <td>10.020191</td>\n",
       "      <td>-2.078526</td>\n",
       "      <td>-2.489089</td>\n",
       "      <td>1.823480</td>\n",
       "      <td>3.127534</td>\n",
       "      <td>-3.651818</td>\n",
       "      <td>-3.334757</td>\n",
       "      <td>...</td>\n",
       "      <td>0.446038</td>\n",
       "      <td>0.053078</td>\n",
       "      <td>-0.324458</td>\n",
       "      <td>-3.373395</td>\n",
       "      <td>-2.744355</td>\n",
       "      <td>3.271828</td>\n",
       "      <td>1.466759</td>\n",
       "      <td>6.472721</td>\n",
       "      <td>-0.104789</td>\n",
       "      <td>-2.214484</td>\n",
       "    </tr>\n",
       "    <tr>\n",
       "      <th>1</th>\n",
       "      <td>1</td>\n",
       "      <td>2</td>\n",
       "      <td>4.602452</td>\n",
       "      <td>-7.825184</td>\n",
       "      <td>3.895465</td>\n",
       "      <td>6.537177</td>\n",
       "      <td>-1.056536</td>\n",
       "      <td>1.364898</td>\n",
       "      <td>0.118355</td>\n",
       "      <td>-2.378352</td>\n",
       "      <td>...</td>\n",
       "      <td>2.336646</td>\n",
       "      <td>0.718642</td>\n",
       "      <td>6.499269</td>\n",
       "      <td>5.674899</td>\n",
       "      <td>-0.772810</td>\n",
       "      <td>-7.357295</td>\n",
       "      <td>-1.807241</td>\n",
       "      <td>-3.096734</td>\n",
       "      <td>-6.486363</td>\n",
       "      <td>3.320606</td>\n",
       "    </tr>\n",
       "    <tr>\n",
       "      <th>2</th>\n",
       "      <td>2</td>\n",
       "      <td>0</td>\n",
       "      <td>4.264195</td>\n",
       "      <td>1.944642</td>\n",
       "      <td>1.594646</td>\n",
       "      <td>1.157688</td>\n",
       "      <td>-1.911011</td>\n",
       "      <td>2.659665</td>\n",
       "      <td>-1.324765</td>\n",
       "      <td>-0.551189</td>\n",
       "      <td>...</td>\n",
       "      <td>3.895024</td>\n",
       "      <td>2.720971</td>\n",
       "      <td>4.487895</td>\n",
       "      <td>3.499413</td>\n",
       "      <td>-2.783858</td>\n",
       "      <td>-2.328802</td>\n",
       "      <td>-0.650420</td>\n",
       "      <td>2.327455</td>\n",
       "      <td>-1.147618</td>\n",
       "      <td>-0.649045</td>\n",
       "    </tr>\n",
       "    <tr>\n",
       "      <th>3</th>\n",
       "      <td>3</td>\n",
       "      <td>2</td>\n",
       "      <td>-3.084724</td>\n",
       "      <td>3.137119</td>\n",
       "      <td>-1.539771</td>\n",
       "      <td>-2.015874</td>\n",
       "      <td>-0.150169</td>\n",
       "      <td>0.271033</td>\n",
       "      <td>-0.383396</td>\n",
       "      <td>-0.931025</td>\n",
       "      <td>...</td>\n",
       "      <td>-1.202603</td>\n",
       "      <td>-1.909417</td>\n",
       "      <td>-2.713500</td>\n",
       "      <td>-1.823864</td>\n",
       "      <td>-0.072031</td>\n",
       "      <td>1.834487</td>\n",
       "      <td>2.697557</td>\n",
       "      <td>2.840558</td>\n",
       "      <td>2.491956</td>\n",
       "      <td>0.698037</td>\n",
       "    </tr>\n",
       "    <tr>\n",
       "      <th>4</th>\n",
       "      <td>4</td>\n",
       "      <td>0</td>\n",
       "      <td>1.780063</td>\n",
       "      <td>-0.467537</td>\n",
       "      <td>2.277703</td>\n",
       "      <td>1.456986</td>\n",
       "      <td>0.008420</td>\n",
       "      <td>2.637371</td>\n",
       "      <td>-0.885162</td>\n",
       "      <td>2.172643</td>\n",
       "      <td>...</td>\n",
       "      <td>3.787470</td>\n",
       "      <td>-1.250550</td>\n",
       "      <td>1.683876</td>\n",
       "      <td>3.088516</td>\n",
       "      <td>-0.645237</td>\n",
       "      <td>-1.106989</td>\n",
       "      <td>-0.979782</td>\n",
       "      <td>-0.920561</td>\n",
       "      <td>-2.072367</td>\n",
       "      <td>-0.680748</td>\n",
       "    </tr>\n",
       "  </tbody>\n",
       "</table>\n",
       "<p>5 rows × 22 columns</p>\n",
       "</div>"
      ],
      "text/plain": [
       "   Unnamed: 0  label  feature_1  feature_2  feature_3  feature_4  feature_5  \\\n",
       "0           0      2  -1.383194  10.020191  -2.078526  -2.489089   1.823480   \n",
       "1           1      2   4.602452  -7.825184   3.895465   6.537177  -1.056536   \n",
       "2           2      0   4.264195   1.944642   1.594646   1.157688  -1.911011   \n",
       "3           3      2  -3.084724   3.137119  -1.539771  -2.015874  -0.150169   \n",
       "4           4      0   1.780063  -0.467537   2.277703   1.456986   0.008420   \n",
       "\n",
       "   feature_6  feature_7  feature_8  ...  feature_11  feature_12  feature_13  \\\n",
       "0   3.127534  -3.651818  -3.334757  ...    0.446038    0.053078   -0.324458   \n",
       "1   1.364898   0.118355  -2.378352  ...    2.336646    0.718642    6.499269   \n",
       "2   2.659665  -1.324765  -0.551189  ...    3.895024    2.720971    4.487895   \n",
       "3   0.271033  -0.383396  -0.931025  ...   -1.202603   -1.909417   -2.713500   \n",
       "4   2.637371  -0.885162   2.172643  ...    3.787470   -1.250550    1.683876   \n",
       "\n",
       "   feature_14  feature_15  feature_16  feature_17  feature_18  feature_19  \\\n",
       "0   -3.373395   -2.744355    3.271828    1.466759    6.472721   -0.104789   \n",
       "1    5.674899   -0.772810   -7.357295   -1.807241   -3.096734   -6.486363   \n",
       "2    3.499413   -2.783858   -2.328802   -0.650420    2.327455   -1.147618   \n",
       "3   -1.823864   -0.072031    1.834487    2.697557    2.840558    2.491956   \n",
       "4    3.088516   -0.645237   -1.106989   -0.979782   -0.920561   -2.072367   \n",
       "\n",
       "   feature_20  \n",
       "0   -2.214484  \n",
       "1    3.320606  \n",
       "2   -0.649045  \n",
       "3    0.698037  \n",
       "4   -0.680748  \n",
       "\n",
       "[5 rows x 22 columns]"
      ]
     },
     "execution_count": 2,
     "metadata": {},
     "output_type": "execute_result"
    }
   ],
   "source": [
    "data = pd.read_csv(\"mldata_0023123212.csv\")\n",
    "data.head()"
   ]
  },
  {
   "cell_type": "markdown",
   "metadata": {},
   "source": [
    "We drop the first column as we don't need it:"
   ]
  },
  {
   "cell_type": "code",
   "execution_count": 3,
   "metadata": {},
   "outputs": [
    {
     "data": {
      "text/html": [
       "<div>\n",
       "<style scoped>\n",
       "    .dataframe tbody tr th:only-of-type {\n",
       "        vertical-align: middle;\n",
       "    }\n",
       "\n",
       "    .dataframe tbody tr th {\n",
       "        vertical-align: top;\n",
       "    }\n",
       "\n",
       "    .dataframe thead th {\n",
       "        text-align: right;\n",
       "    }\n",
       "</style>\n",
       "<table border=\"1\" class=\"dataframe\">\n",
       "  <thead>\n",
       "    <tr style=\"text-align: right;\">\n",
       "      <th></th>\n",
       "      <th>label</th>\n",
       "      <th>feature_1</th>\n",
       "      <th>feature_2</th>\n",
       "      <th>feature_3</th>\n",
       "      <th>feature_4</th>\n",
       "      <th>feature_5</th>\n",
       "      <th>feature_6</th>\n",
       "      <th>feature_7</th>\n",
       "      <th>feature_8</th>\n",
       "      <th>feature_9</th>\n",
       "      <th>...</th>\n",
       "      <th>feature_11</th>\n",
       "      <th>feature_12</th>\n",
       "      <th>feature_13</th>\n",
       "      <th>feature_14</th>\n",
       "      <th>feature_15</th>\n",
       "      <th>feature_16</th>\n",
       "      <th>feature_17</th>\n",
       "      <th>feature_18</th>\n",
       "      <th>feature_19</th>\n",
       "      <th>feature_20</th>\n",
       "    </tr>\n",
       "  </thead>\n",
       "  <tbody>\n",
       "    <tr>\n",
       "      <th>0</th>\n",
       "      <td>2</td>\n",
       "      <td>-1.383194</td>\n",
       "      <td>10.020191</td>\n",
       "      <td>-2.078526</td>\n",
       "      <td>-2.489089</td>\n",
       "      <td>1.823480</td>\n",
       "      <td>3.127534</td>\n",
       "      <td>-3.651818</td>\n",
       "      <td>-3.334757</td>\n",
       "      <td>-1.087237</td>\n",
       "      <td>...</td>\n",
       "      <td>0.446038</td>\n",
       "      <td>0.053078</td>\n",
       "      <td>-0.324458</td>\n",
       "      <td>-3.373395</td>\n",
       "      <td>-2.744355</td>\n",
       "      <td>3.271828</td>\n",
       "      <td>1.466759</td>\n",
       "      <td>6.472721</td>\n",
       "      <td>-0.104789</td>\n",
       "      <td>-2.214484</td>\n",
       "    </tr>\n",
       "    <tr>\n",
       "      <th>1</th>\n",
       "      <td>2</td>\n",
       "      <td>4.602452</td>\n",
       "      <td>-7.825184</td>\n",
       "      <td>3.895465</td>\n",
       "      <td>6.537177</td>\n",
       "      <td>-1.056536</td>\n",
       "      <td>1.364898</td>\n",
       "      <td>0.118355</td>\n",
       "      <td>-2.378352</td>\n",
       "      <td>0.449493</td>\n",
       "      <td>...</td>\n",
       "      <td>2.336646</td>\n",
       "      <td>0.718642</td>\n",
       "      <td>6.499269</td>\n",
       "      <td>5.674899</td>\n",
       "      <td>-0.772810</td>\n",
       "      <td>-7.357295</td>\n",
       "      <td>-1.807241</td>\n",
       "      <td>-3.096734</td>\n",
       "      <td>-6.486363</td>\n",
       "      <td>3.320606</td>\n",
       "    </tr>\n",
       "    <tr>\n",
       "      <th>2</th>\n",
       "      <td>0</td>\n",
       "      <td>4.264195</td>\n",
       "      <td>1.944642</td>\n",
       "      <td>1.594646</td>\n",
       "      <td>1.157688</td>\n",
       "      <td>-1.911011</td>\n",
       "      <td>2.659665</td>\n",
       "      <td>-1.324765</td>\n",
       "      <td>-0.551189</td>\n",
       "      <td>0.232686</td>\n",
       "      <td>...</td>\n",
       "      <td>3.895024</td>\n",
       "      <td>2.720971</td>\n",
       "      <td>4.487895</td>\n",
       "      <td>3.499413</td>\n",
       "      <td>-2.783858</td>\n",
       "      <td>-2.328802</td>\n",
       "      <td>-0.650420</td>\n",
       "      <td>2.327455</td>\n",
       "      <td>-1.147618</td>\n",
       "      <td>-0.649045</td>\n",
       "    </tr>\n",
       "    <tr>\n",
       "      <th>3</th>\n",
       "      <td>2</td>\n",
       "      <td>-3.084724</td>\n",
       "      <td>3.137119</td>\n",
       "      <td>-1.539771</td>\n",
       "      <td>-2.015874</td>\n",
       "      <td>-0.150169</td>\n",
       "      <td>0.271033</td>\n",
       "      <td>-0.383396</td>\n",
       "      <td>-0.931025</td>\n",
       "      <td>-1.124977</td>\n",
       "      <td>...</td>\n",
       "      <td>-1.202603</td>\n",
       "      <td>-1.909417</td>\n",
       "      <td>-2.713500</td>\n",
       "      <td>-1.823864</td>\n",
       "      <td>-0.072031</td>\n",
       "      <td>1.834487</td>\n",
       "      <td>2.697557</td>\n",
       "      <td>2.840558</td>\n",
       "      <td>2.491956</td>\n",
       "      <td>0.698037</td>\n",
       "    </tr>\n",
       "    <tr>\n",
       "      <th>4</th>\n",
       "      <td>0</td>\n",
       "      <td>1.780063</td>\n",
       "      <td>-0.467537</td>\n",
       "      <td>2.277703</td>\n",
       "      <td>1.456986</td>\n",
       "      <td>0.008420</td>\n",
       "      <td>2.637371</td>\n",
       "      <td>-0.885162</td>\n",
       "      <td>2.172643</td>\n",
       "      <td>0.829259</td>\n",
       "      <td>...</td>\n",
       "      <td>3.787470</td>\n",
       "      <td>-1.250550</td>\n",
       "      <td>1.683876</td>\n",
       "      <td>3.088516</td>\n",
       "      <td>-0.645237</td>\n",
       "      <td>-1.106989</td>\n",
       "      <td>-0.979782</td>\n",
       "      <td>-0.920561</td>\n",
       "      <td>-2.072367</td>\n",
       "      <td>-0.680748</td>\n",
       "    </tr>\n",
       "  </tbody>\n",
       "</table>\n",
       "<p>5 rows × 21 columns</p>\n",
       "</div>"
      ],
      "text/plain": [
       "   label  feature_1  feature_2  feature_3  feature_4  feature_5  feature_6  \\\n",
       "0      2  -1.383194  10.020191  -2.078526  -2.489089   1.823480   3.127534   \n",
       "1      2   4.602452  -7.825184   3.895465   6.537177  -1.056536   1.364898   \n",
       "2      0   4.264195   1.944642   1.594646   1.157688  -1.911011   2.659665   \n",
       "3      2  -3.084724   3.137119  -1.539771  -2.015874  -0.150169   0.271033   \n",
       "4      0   1.780063  -0.467537   2.277703   1.456986   0.008420   2.637371   \n",
       "\n",
       "   feature_7  feature_8  feature_9  ...  feature_11  feature_12  feature_13  \\\n",
       "0  -3.651818  -3.334757  -1.087237  ...    0.446038    0.053078   -0.324458   \n",
       "1   0.118355  -2.378352   0.449493  ...    2.336646    0.718642    6.499269   \n",
       "2  -1.324765  -0.551189   0.232686  ...    3.895024    2.720971    4.487895   \n",
       "3  -0.383396  -0.931025  -1.124977  ...   -1.202603   -1.909417   -2.713500   \n",
       "4  -0.885162   2.172643   0.829259  ...    3.787470   -1.250550    1.683876   \n",
       "\n",
       "   feature_14  feature_15  feature_16  feature_17  feature_18  feature_19  \\\n",
       "0   -3.373395   -2.744355    3.271828    1.466759    6.472721   -0.104789   \n",
       "1    5.674899   -0.772810   -7.357295   -1.807241   -3.096734   -6.486363   \n",
       "2    3.499413   -2.783858   -2.328802   -0.650420    2.327455   -1.147618   \n",
       "3   -1.823864   -0.072031    1.834487    2.697557    2.840558    2.491956   \n",
       "4    3.088516   -0.645237   -1.106989   -0.979782   -0.920561   -2.072367   \n",
       "\n",
       "   feature_20  \n",
       "0   -2.214484  \n",
       "1    3.320606  \n",
       "2   -0.649045  \n",
       "3    0.698037  \n",
       "4   -0.680748  \n",
       "\n",
       "[5 rows x 21 columns]"
      ]
     },
     "execution_count": 3,
     "metadata": {},
     "output_type": "execute_result"
    }
   ],
   "source": [
    "data.drop(columns = ['Unnamed: 0'], axis=1, inplace=True)\n",
    "data.head()"
   ]
  },
  {
   "cell_type": "code",
   "execution_count": 4,
   "metadata": {},
   "outputs": [
    {
     "name": "stdout",
     "output_type": "stream",
     "text": [
      "<class 'pandas.core.frame.DataFrame'>\n",
      "RangeIndex: 1100 entries, 0 to 1099\n",
      "Data columns (total 21 columns):\n",
      " #   Column      Non-Null Count  Dtype  \n",
      "---  ------      --------------  -----  \n",
      " 0   label       1100 non-null   int64  \n",
      " 1   feature_1   1100 non-null   float64\n",
      " 2   feature_2   1100 non-null   float64\n",
      " 3   feature_3   1100 non-null   float64\n",
      " 4   feature_4   1100 non-null   float64\n",
      " 5   feature_5   1100 non-null   float64\n",
      " 6   feature_6   1100 non-null   float64\n",
      " 7   feature_7   1100 non-null   float64\n",
      " 8   feature_8   1100 non-null   float64\n",
      " 9   feature_9   1100 non-null   float64\n",
      " 10  feature_10  1100 non-null   float64\n",
      " 11  feature_11  1100 non-null   float64\n",
      " 12  feature_12  1100 non-null   float64\n",
      " 13  feature_13  1100 non-null   float64\n",
      " 14  feature_14  1100 non-null   float64\n",
      " 15  feature_15  1100 non-null   float64\n",
      " 16  feature_16  1100 non-null   float64\n",
      " 17  feature_17  1100 non-null   float64\n",
      " 18  feature_18  1100 non-null   float64\n",
      " 19  feature_19  1100 non-null   float64\n",
      " 20  feature_20  1100 non-null   float64\n",
      "dtypes: float64(20), int64(1)\n",
      "memory usage: 180.6 KB\n"
     ]
    }
   ],
   "source": [
    "data.info()"
   ]
  },
  {
   "cell_type": "markdown",
   "metadata": {},
   "source": [
    "All data are numerical and there are not missing data. Therefore, we don't need any manipulation at this point."
   ]
  },
  {
   "cell_type": "code",
   "execution_count": 5,
   "metadata": {},
   "outputs": [
    {
     "data": {
      "text/html": [
       "<div>\n",
       "<style scoped>\n",
       "    .dataframe tbody tr th:only-of-type {\n",
       "        vertical-align: middle;\n",
       "    }\n",
       "\n",
       "    .dataframe tbody tr th {\n",
       "        vertical-align: top;\n",
       "    }\n",
       "\n",
       "    .dataframe thead th {\n",
       "        text-align: right;\n",
       "    }\n",
       "</style>\n",
       "<table border=\"1\" class=\"dataframe\">\n",
       "  <thead>\n",
       "    <tr style=\"text-align: right;\">\n",
       "      <th></th>\n",
       "      <th>label</th>\n",
       "      <th>feature_1</th>\n",
       "      <th>feature_2</th>\n",
       "      <th>feature_3</th>\n",
       "      <th>feature_4</th>\n",
       "      <th>feature_5</th>\n",
       "      <th>feature_6</th>\n",
       "      <th>feature_7</th>\n",
       "      <th>feature_8</th>\n",
       "      <th>feature_9</th>\n",
       "      <th>...</th>\n",
       "      <th>feature_11</th>\n",
       "      <th>feature_12</th>\n",
       "      <th>feature_13</th>\n",
       "      <th>feature_14</th>\n",
       "      <th>feature_15</th>\n",
       "      <th>feature_16</th>\n",
       "      <th>feature_17</th>\n",
       "      <th>feature_18</th>\n",
       "      <th>feature_19</th>\n",
       "      <th>feature_20</th>\n",
       "    </tr>\n",
       "  </thead>\n",
       "  <tbody>\n",
       "    <tr>\n",
       "      <th>count</th>\n",
       "      <td>1100.000000</td>\n",
       "      <td>1100.000000</td>\n",
       "      <td>1100.000000</td>\n",
       "      <td>1100.000000</td>\n",
       "      <td>1100.000000</td>\n",
       "      <td>1100.000000</td>\n",
       "      <td>1100.000000</td>\n",
       "      <td>1100.000000</td>\n",
       "      <td>1100.000000</td>\n",
       "      <td>1100.000000</td>\n",
       "      <td>...</td>\n",
       "      <td>1100.000000</td>\n",
       "      <td>1100.000000</td>\n",
       "      <td>1100.000000</td>\n",
       "      <td>1100.000000</td>\n",
       "      <td>1100.000000</td>\n",
       "      <td>1100.000000</td>\n",
       "      <td>1100.000000</td>\n",
       "      <td>1100.000000</td>\n",
       "      <td>1100.000000</td>\n",
       "      <td>1100.000000</td>\n",
       "    </tr>\n",
       "    <tr>\n",
       "      <th>mean</th>\n",
       "      <td>1.986364</td>\n",
       "      <td>0.011866</td>\n",
       "      <td>-0.077746</td>\n",
       "      <td>0.004132</td>\n",
       "      <td>0.242691</td>\n",
       "      <td>-0.089509</td>\n",
       "      <td>0.170016</td>\n",
       "      <td>0.189403</td>\n",
       "      <td>0.255142</td>\n",
       "      <td>-0.414643</td>\n",
       "      <td>...</td>\n",
       "      <td>0.403139</td>\n",
       "      <td>-0.016679</td>\n",
       "      <td>0.231980</td>\n",
       "      <td>0.324504</td>\n",
       "      <td>-0.112340</td>\n",
       "      <td>0.324884</td>\n",
       "      <td>0.020941</td>\n",
       "      <td>0.069433</td>\n",
       "      <td>-0.298871</td>\n",
       "      <td>0.275764</td>\n",
       "    </tr>\n",
       "    <tr>\n",
       "      <th>std</th>\n",
       "      <td>1.436175</td>\n",
       "      <td>2.671379</td>\n",
       "      <td>3.420528</td>\n",
       "      <td>2.317117</td>\n",
       "      <td>2.559977</td>\n",
       "      <td>2.011721</td>\n",
       "      <td>1.840049</td>\n",
       "      <td>1.611664</td>\n",
       "      <td>1.915638</td>\n",
       "      <td>1.625358</td>\n",
       "      <td>...</td>\n",
       "      <td>3.125506</td>\n",
       "      <td>1.697491</td>\n",
       "      <td>3.190805</td>\n",
       "      <td>3.615560</td>\n",
       "      <td>1.742741</td>\n",
       "      <td>3.720064</td>\n",
       "      <td>1.772037</td>\n",
       "      <td>3.133257</td>\n",
       "      <td>2.676133</td>\n",
       "      <td>1.800942</td>\n",
       "    </tr>\n",
       "    <tr>\n",
       "      <th>min</th>\n",
       "      <td>0.000000</td>\n",
       "      <td>-10.327608</td>\n",
       "      <td>-11.709114</td>\n",
       "      <td>-9.431231</td>\n",
       "      <td>-8.641269</td>\n",
       "      <td>-6.123481</td>\n",
       "      <td>-5.570557</td>\n",
       "      <td>-5.276908</td>\n",
       "      <td>-5.760818</td>\n",
       "      <td>-7.194792</td>\n",
       "      <td>...</td>\n",
       "      <td>-9.541469</td>\n",
       "      <td>-6.354149</td>\n",
       "      <td>-13.697013</td>\n",
       "      <td>-9.856359</td>\n",
       "      <td>-6.338599</td>\n",
       "      <td>-10.587106</td>\n",
       "      <td>-6.561591</td>\n",
       "      <td>-11.617688</td>\n",
       "      <td>-8.794930</td>\n",
       "      <td>-6.595589</td>\n",
       "    </tr>\n",
       "    <tr>\n",
       "      <th>25%</th>\n",
       "      <td>1.000000</td>\n",
       "      <td>-1.621270</td>\n",
       "      <td>-2.328791</td>\n",
       "      <td>-1.559574</td>\n",
       "      <td>-1.595292</td>\n",
       "      <td>-1.417766</td>\n",
       "      <td>-0.976932</td>\n",
       "      <td>-0.811948</td>\n",
       "      <td>-1.045766</td>\n",
       "      <td>-1.511108</td>\n",
       "      <td>...</td>\n",
       "      <td>-1.670276</td>\n",
       "      <td>-1.119008</td>\n",
       "      <td>-1.851539</td>\n",
       "      <td>-2.261658</td>\n",
       "      <td>-1.244377</td>\n",
       "      <td>-2.055589</td>\n",
       "      <td>-1.144312</td>\n",
       "      <td>-1.865206</td>\n",
       "      <td>-2.026358</td>\n",
       "      <td>-0.905435</td>\n",
       "    </tr>\n",
       "    <tr>\n",
       "      <th>50%</th>\n",
       "      <td>2.000000</td>\n",
       "      <td>-0.088225</td>\n",
       "      <td>-0.029155</td>\n",
       "      <td>0.009356</td>\n",
       "      <td>0.056882</td>\n",
       "      <td>-0.122926</td>\n",
       "      <td>0.131757</td>\n",
       "      <td>0.253042</td>\n",
       "      <td>0.271472</td>\n",
       "      <td>-0.340409</td>\n",
       "      <td>...</td>\n",
       "      <td>0.268061</td>\n",
       "      <td>-0.029435</td>\n",
       "      <td>0.240994</td>\n",
       "      <td>0.456784</td>\n",
       "      <td>-0.131237</td>\n",
       "      <td>0.240788</td>\n",
       "      <td>-0.032667</td>\n",
       "      <td>0.135035</td>\n",
       "      <td>-0.285302</td>\n",
       "      <td>0.306955</td>\n",
       "    </tr>\n",
       "    <tr>\n",
       "      <th>75%</th>\n",
       "      <td>3.000000</td>\n",
       "      <td>1.664841</td>\n",
       "      <td>2.117745</td>\n",
       "      <td>1.532563</td>\n",
       "      <td>1.914598</td>\n",
       "      <td>1.185880</td>\n",
       "      <td>1.349240</td>\n",
       "      <td>1.274666</td>\n",
       "      <td>1.549469</td>\n",
       "      <td>0.726430</td>\n",
       "      <td>...</td>\n",
       "      <td>2.409772</td>\n",
       "      <td>1.099418</td>\n",
       "      <td>2.338288</td>\n",
       "      <td>2.824877</td>\n",
       "      <td>1.026540</td>\n",
       "      <td>2.611491</td>\n",
       "      <td>1.136960</td>\n",
       "      <td>2.083560</td>\n",
       "      <td>1.534295</td>\n",
       "      <td>1.496318</td>\n",
       "    </tr>\n",
       "    <tr>\n",
       "      <th>max</th>\n",
       "      <td>4.000000</td>\n",
       "      <td>9.779685</td>\n",
       "      <td>10.020191</td>\n",
       "      <td>6.984364</td>\n",
       "      <td>8.350856</td>\n",
       "      <td>7.979053</td>\n",
       "      <td>6.592232</td>\n",
       "      <td>5.131009</td>\n",
       "      <td>8.346820</td>\n",
       "      <td>5.017782</td>\n",
       "      <td>...</td>\n",
       "      <td>11.082015</td>\n",
       "      <td>7.100222</td>\n",
       "      <td>12.878107</td>\n",
       "      <td>12.127337</td>\n",
       "      <td>6.500533</td>\n",
       "      <td>16.353196</td>\n",
       "      <td>6.676978</td>\n",
       "      <td>10.705744</td>\n",
       "      <td>7.861903</td>\n",
       "      <td>7.228547</td>\n",
       "    </tr>\n",
       "  </tbody>\n",
       "</table>\n",
       "<p>8 rows × 21 columns</p>\n",
       "</div>"
      ],
      "text/plain": [
       "             label    feature_1    feature_2    feature_3    feature_4  \\\n",
       "count  1100.000000  1100.000000  1100.000000  1100.000000  1100.000000   \n",
       "mean      1.986364     0.011866    -0.077746     0.004132     0.242691   \n",
       "std       1.436175     2.671379     3.420528     2.317117     2.559977   \n",
       "min       0.000000   -10.327608   -11.709114    -9.431231    -8.641269   \n",
       "25%       1.000000    -1.621270    -2.328791    -1.559574    -1.595292   \n",
       "50%       2.000000    -0.088225    -0.029155     0.009356     0.056882   \n",
       "75%       3.000000     1.664841     2.117745     1.532563     1.914598   \n",
       "max       4.000000     9.779685    10.020191     6.984364     8.350856   \n",
       "\n",
       "         feature_5    feature_6    feature_7    feature_8    feature_9  ...  \\\n",
       "count  1100.000000  1100.000000  1100.000000  1100.000000  1100.000000  ...   \n",
       "mean     -0.089509     0.170016     0.189403     0.255142    -0.414643  ...   \n",
       "std       2.011721     1.840049     1.611664     1.915638     1.625358  ...   \n",
       "min      -6.123481    -5.570557    -5.276908    -5.760818    -7.194792  ...   \n",
       "25%      -1.417766    -0.976932    -0.811948    -1.045766    -1.511108  ...   \n",
       "50%      -0.122926     0.131757     0.253042     0.271472    -0.340409  ...   \n",
       "75%       1.185880     1.349240     1.274666     1.549469     0.726430  ...   \n",
       "max       7.979053     6.592232     5.131009     8.346820     5.017782  ...   \n",
       "\n",
       "        feature_11   feature_12   feature_13   feature_14   feature_15  \\\n",
       "count  1100.000000  1100.000000  1100.000000  1100.000000  1100.000000   \n",
       "mean      0.403139    -0.016679     0.231980     0.324504    -0.112340   \n",
       "std       3.125506     1.697491     3.190805     3.615560     1.742741   \n",
       "min      -9.541469    -6.354149   -13.697013    -9.856359    -6.338599   \n",
       "25%      -1.670276    -1.119008    -1.851539    -2.261658    -1.244377   \n",
       "50%       0.268061    -0.029435     0.240994     0.456784    -0.131237   \n",
       "75%       2.409772     1.099418     2.338288     2.824877     1.026540   \n",
       "max      11.082015     7.100222    12.878107    12.127337     6.500533   \n",
       "\n",
       "        feature_16   feature_17   feature_18   feature_19   feature_20  \n",
       "count  1100.000000  1100.000000  1100.000000  1100.000000  1100.000000  \n",
       "mean      0.324884     0.020941     0.069433    -0.298871     0.275764  \n",
       "std       3.720064     1.772037     3.133257     2.676133     1.800942  \n",
       "min     -10.587106    -6.561591   -11.617688    -8.794930    -6.595589  \n",
       "25%      -2.055589    -1.144312    -1.865206    -2.026358    -0.905435  \n",
       "50%       0.240788    -0.032667     0.135035    -0.285302     0.306955  \n",
       "75%       2.611491     1.136960     2.083560     1.534295     1.496318  \n",
       "max      16.353196     6.676978    10.705744     7.861903     7.228547  \n",
       "\n",
       "[8 rows x 21 columns]"
      ]
     },
     "execution_count": 5,
     "metadata": {},
     "output_type": "execute_result"
    }
   ],
   "source": [
    "data.describe()"
   ]
  },
  {
   "cell_type": "markdown",
   "metadata": {},
   "source": [
    "To make this notebook's output identical at every run:"
   ]
  },
  {
   "cell_type": "code",
   "execution_count": 6,
   "metadata": {},
   "outputs": [],
   "source": [
    "np.random.seed(16)"
   ]
  },
  {
   "cell_type": "markdown",
   "metadata": {},
   "source": [
    "We separate features and label:"
   ]
  },
  {
   "cell_type": "code",
   "execution_count": 7,
   "metadata": {},
   "outputs": [],
   "source": [
    "features = data.iloc[:,1:]\n",
    "label = data.iloc[:,:1]"
   ]
  },
  {
   "cell_type": "markdown",
   "metadata": {},
   "source": [
    "Distribution of the targets:"
   ]
  },
  {
   "cell_type": "code",
   "execution_count": 8,
   "metadata": {},
   "outputs": [
    {
     "data": {
      "image/png": "[encoded data removed]",
      "text/plain": [
       "<Figure size 432x288 with 1 Axes>"
      ]
     },
     "metadata": {
      "needs_background": "light"
     },
     "output_type": "display_data"
    }
   ],
   "source": [
    "import seaborn as sns\n",
    "sns.countplot(x = \"label\", data=data)\n",
    "plt.show()"
   ]
  },
  {
   "cell_type": "markdown",
   "metadata": {},
   "source": [
    "Labels look uniformly distributed between 0 and 4."
   ]
  },
  {
   "cell_type": "markdown",
   "metadata": {},
   "source": [
    "We now plot the distribution of the features:"
   ]
  },
  {
   "cell_type": "code",
   "execution_count": 9,
   "metadata": {},
   "outputs": [
    {
     "data": {
      "image/png": "[encoded data removed]",
      "text/plain": [
       "<Figure size 1440x1080 with 20 Axes>"
      ]
     },
     "metadata": {
      "needs_background": "light"
     },
     "output_type": "display_data"
    }
   ],
   "source": [
    "%matplotlib inline\n",
    "import matplotlib.pyplot as plt\n",
    "features.hist(bins = 50, figsize = (20,15))\n",
    "plt.show()"
   ]
  },
  {
   "cell_type": "markdown",
   "metadata": {},
   "source": [
    "Features seems to be distributed approximately as normal RVs."
   ]
  },
  {
   "cell_type": "markdown",
   "metadata": {},
   "source": [
    "# Prepare the Data for the Machine Learning models"
   ]
  },
  {
   "cell_type": "markdown",
   "metadata": {},
   "source": [
    "We split the dataset into Training set and Test set. The code below puts 80% of the data in the training set and 20% in the test set:"
   ]
  },
  {
   "cell_type": "code",
   "execution_count": 10,
   "metadata": {},
   "outputs": [
    {
     "name": "stdout",
     "output_type": "stream",
     "text": [
      "880 train feature + 220  test feature\n"
     ]
    }
   ],
   "source": [
    "from sklearn.model_selection import train_test_split\n",
    "features_train, features_test, label_train, label_test = train_test_split(features,label,\n",
    "                                                                                    test_size=0.20, random_state=16)\n",
    "print(len(features_train), \"train feature +\", len(features_test), \" test feature\")"
   ]
  },
  {
   "cell_type": "code",
   "execution_count": 11,
   "metadata": {},
   "outputs": [
    {
     "data": {
      "text/html": [
       "<div>\n",
       "<style scoped>\n",
       "    .dataframe tbody tr th:only-of-type {\n",
       "        vertical-align: middle;\n",
       "    }\n",
       "\n",
       "    .dataframe tbody tr th {\n",
       "        vertical-align: top;\n",
       "    }\n",
       "\n",
       "    .dataframe thead th {\n",
       "        text-align: right;\n",
       "    }\n",
       "</style>\n",
       "<table border=\"1\" class=\"dataframe\">\n",
       "  <thead>\n",
       "    <tr style=\"text-align: right;\">\n",
       "      <th></th>\n",
       "      <th>feature_1</th>\n",
       "      <th>feature_2</th>\n",
       "      <th>feature_3</th>\n",
       "      <th>feature_4</th>\n",
       "      <th>feature_5</th>\n",
       "      <th>feature_6</th>\n",
       "      <th>feature_7</th>\n",
       "      <th>feature_8</th>\n",
       "      <th>feature_9</th>\n",
       "      <th>feature_10</th>\n",
       "      <th>feature_11</th>\n",
       "      <th>feature_12</th>\n",
       "      <th>feature_13</th>\n",
       "      <th>feature_14</th>\n",
       "      <th>feature_15</th>\n",
       "      <th>feature_16</th>\n",
       "      <th>feature_17</th>\n",
       "      <th>feature_18</th>\n",
       "      <th>feature_19</th>\n",
       "      <th>feature_20</th>\n",
       "    </tr>\n",
       "  </thead>\n",
       "  <tbody>\n",
       "    <tr>\n",
       "      <th>count</th>\n",
       "      <td>880.000000</td>\n",
       "      <td>880.000000</td>\n",
       "      <td>880.000000</td>\n",
       "      <td>880.000000</td>\n",
       "      <td>880.000000</td>\n",
       "      <td>880.000000</td>\n",
       "      <td>880.000000</td>\n",
       "      <td>880.000000</td>\n",
       "      <td>880.000000</td>\n",
       "      <td>880.000000</td>\n",
       "      <td>880.000000</td>\n",
       "      <td>880.000000</td>\n",
       "      <td>880.000000</td>\n",
       "      <td>880.000000</td>\n",
       "      <td>880.000000</td>\n",
       "      <td>880.000000</td>\n",
       "      <td>880.000000</td>\n",
       "      <td>880.000000</td>\n",
       "      <td>880.000000</td>\n",
       "      <td>880.000000</td>\n",
       "    </tr>\n",
       "    <tr>\n",
       "      <th>mean</th>\n",
       "      <td>0.082805</td>\n",
       "      <td>-0.020950</td>\n",
       "      <td>0.082881</td>\n",
       "      <td>0.245834</td>\n",
       "      <td>-0.146830</td>\n",
       "      <td>0.190207</td>\n",
       "      <td>0.189705</td>\n",
       "      <td>0.280400</td>\n",
       "      <td>-0.409168</td>\n",
       "      <td>0.732009</td>\n",
       "      <td>0.386625</td>\n",
       "      <td>-0.071696</td>\n",
       "      <td>0.301075</td>\n",
       "      <td>0.313926</td>\n",
       "      <td>-0.182854</td>\n",
       "      <td>0.229001</td>\n",
       "      <td>0.039222</td>\n",
       "      <td>0.014451</td>\n",
       "      <td>-0.253751</td>\n",
       "      <td>0.224729</td>\n",
       "    </tr>\n",
       "    <tr>\n",
       "      <th>std</th>\n",
       "      <td>2.716678</td>\n",
       "      <td>3.464049</td>\n",
       "      <td>2.315851</td>\n",
       "      <td>2.587200</td>\n",
       "      <td>2.020027</td>\n",
       "      <td>1.867786</td>\n",
       "      <td>1.622463</td>\n",
       "      <td>1.917548</td>\n",
       "      <td>1.582460</td>\n",
       "      <td>2.590343</td>\n",
       "      <td>3.175909</td>\n",
       "      <td>1.727792</td>\n",
       "      <td>3.237486</td>\n",
       "      <td>3.690697</td>\n",
       "      <td>1.758371</td>\n",
       "      <td>3.758021</td>\n",
       "      <td>1.784865</td>\n",
       "      <td>3.168587</td>\n",
       "      <td>2.713216</td>\n",
       "      <td>1.817562</td>\n",
       "    </tr>\n",
       "    <tr>\n",
       "      <th>min</th>\n",
       "      <td>-10.327608</td>\n",
       "      <td>-11.709114</td>\n",
       "      <td>-9.431231</td>\n",
       "      <td>-8.641269</td>\n",
       "      <td>-6.123481</td>\n",
       "      <td>-5.545495</td>\n",
       "      <td>-5.276908</td>\n",
       "      <td>-5.760818</td>\n",
       "      <td>-7.194792</td>\n",
       "      <td>-7.167442</td>\n",
       "      <td>-9.541469</td>\n",
       "      <td>-6.354149</td>\n",
       "      <td>-13.697013</td>\n",
       "      <td>-9.856359</td>\n",
       "      <td>-6.338599</td>\n",
       "      <td>-10.587106</td>\n",
       "      <td>-6.561591</td>\n",
       "      <td>-10.011670</td>\n",
       "      <td>-8.794930</td>\n",
       "      <td>-6.595589</td>\n",
       "    </tr>\n",
       "    <tr>\n",
       "      <th>25%</th>\n",
       "      <td>-1.586104</td>\n",
       "      <td>-2.210438</td>\n",
       "      <td>-1.507732</td>\n",
       "      <td>-1.515133</td>\n",
       "      <td>-1.510007</td>\n",
       "      <td>-0.953715</td>\n",
       "      <td>-0.847035</td>\n",
       "      <td>-1.024311</td>\n",
       "      <td>-1.462477</td>\n",
       "      <td>-0.970302</td>\n",
       "      <td>-1.700866</td>\n",
       "      <td>-1.244103</td>\n",
       "      <td>-1.797221</td>\n",
       "      <td>-2.322175</td>\n",
       "      <td>-1.316208</td>\n",
       "      <td>-2.239040</td>\n",
       "      <td>-1.100198</td>\n",
       "      <td>-1.976210</td>\n",
       "      <td>-1.981761</td>\n",
       "      <td>-0.953449</td>\n",
       "    </tr>\n",
       "    <tr>\n",
       "      <th>50%</th>\n",
       "      <td>-0.055989</td>\n",
       "      <td>-0.008510</td>\n",
       "      <td>0.132865</td>\n",
       "      <td>0.032949</td>\n",
       "      <td>-0.141494</td>\n",
       "      <td>0.138068</td>\n",
       "      <td>0.253042</td>\n",
       "      <td>0.285627</td>\n",
       "      <td>-0.316265</td>\n",
       "      <td>0.573271</td>\n",
       "      <td>0.225985</td>\n",
       "      <td>-0.065856</td>\n",
       "      <td>0.343058</td>\n",
       "      <td>0.401798</td>\n",
       "      <td>-0.232646</td>\n",
       "      <td>0.139132</td>\n",
       "      <td>-0.024493</td>\n",
       "      <td>0.084774</td>\n",
       "      <td>-0.236568</td>\n",
       "      <td>0.258096</td>\n",
       "    </tr>\n",
       "    <tr>\n",
       "      <th>75%</th>\n",
       "      <td>1.784202</td>\n",
       "      <td>2.219311</td>\n",
       "      <td>1.600648</td>\n",
       "      <td>1.853102</td>\n",
       "      <td>1.130130</td>\n",
       "      <td>1.370473</td>\n",
       "      <td>1.288654</td>\n",
       "      <td>1.522554</td>\n",
       "      <td>0.670838</td>\n",
       "      <td>2.515112</td>\n",
       "      <td>2.475321</td>\n",
       "      <td>1.060284</td>\n",
       "      <td>2.488257</td>\n",
       "      <td>2.857374</td>\n",
       "      <td>0.953816</td>\n",
       "      <td>2.528676</td>\n",
       "      <td>1.157127</td>\n",
       "      <td>2.085280</td>\n",
       "      <td>1.637143</td>\n",
       "      <td>1.486336</td>\n",
       "    </tr>\n",
       "    <tr>\n",
       "      <th>max</th>\n",
       "      <td>8.318359</td>\n",
       "      <td>9.669931</td>\n",
       "      <td>6.984364</td>\n",
       "      <td>8.350856</td>\n",
       "      <td>6.127654</td>\n",
       "      <td>6.592232</td>\n",
       "      <td>5.131009</td>\n",
       "      <td>8.346820</td>\n",
       "      <td>5.017782</td>\n",
       "      <td>9.314946</td>\n",
       "      <td>11.082015</td>\n",
       "      <td>7.100222</td>\n",
       "      <td>12.878107</td>\n",
       "      <td>12.127337</td>\n",
       "      <td>6.500533</td>\n",
       "      <td>16.353196</td>\n",
       "      <td>6.676978</td>\n",
       "      <td>10.705744</td>\n",
       "      <td>7.641671</td>\n",
       "      <td>5.540040</td>\n",
       "    </tr>\n",
       "  </tbody>\n",
       "</table>\n",
       "</div>"
      ],
      "text/plain": [
       "        feature_1   feature_2   feature_3   feature_4   feature_5   feature_6  \\\n",
       "count  880.000000  880.000000  880.000000  880.000000  880.000000  880.000000   \n",
       "mean     0.082805   -0.020950    0.082881    0.245834   -0.146830    0.190207   \n",
       "std      2.716678    3.464049    2.315851    2.587200    2.020027    1.867786   \n",
       "min    -10.327608  -11.709114   -9.431231   -8.641269   -6.123481   -5.545495   \n",
       "25%     -1.586104   -2.210438   -1.507732   -1.515133   -1.510007   -0.953715   \n",
       "50%     -0.055989   -0.008510    0.132865    0.032949   -0.141494    0.138068   \n",
       "75%      1.784202    2.219311    1.600648    1.853102    1.130130    1.370473   \n",
       "max      8.318359    9.669931    6.984364    8.350856    6.127654    6.592232   \n",
       "\n",
       "        feature_7   feature_8   feature_9  feature_10  feature_11  feature_12  \\\n",
       "count  880.000000  880.000000  880.000000  880.000000  880.000000  880.000000   \n",
       "mean     0.189705    0.280400   -0.409168    0.732009    0.386625   -0.071696   \n",
       "std      1.622463    1.917548    1.582460    2.590343    3.175909    1.727792   \n",
       "min     -5.276908   -5.760818   -7.194792   -7.167442   -9.541469   -6.354149   \n",
       "25%     -0.847035   -1.024311   -1.462477   -0.970302   -1.700866   -1.244103   \n",
       "50%      0.253042    0.285627   -0.316265    0.573271    0.225985   -0.065856   \n",
       "75%      1.288654    1.522554    0.670838    2.515112    2.475321    1.060284   \n",
       "max      5.131009    8.346820    5.017782    9.314946   11.082015    7.100222   \n",
       "\n",
       "       feature_13  feature_14  feature_15  feature_16  feature_17  feature_18  \\\n",
       "count  880.000000  880.000000  880.000000  880.000000  880.000000  880.000000   \n",
       "mean     0.301075    0.313926   -0.182854    0.229001    0.039222    0.014451   \n",
       "std      3.237486    3.690697    1.758371    3.758021    1.784865    3.168587   \n",
       "min    -13.697013   -9.856359   -6.338599  -10.587106   -6.561591  -10.011670   \n",
       "25%     -1.797221   -2.322175   -1.316208   -2.239040   -1.100198   -1.976210   \n",
       "50%      0.343058    0.401798   -0.232646    0.139132   -0.024493    0.084774   \n",
       "75%      2.488257    2.857374    0.953816    2.528676    1.157127    2.085280   \n",
       "max     12.878107   12.127337    6.500533   16.353196    6.676978   10.705744   \n",
       "\n",
       "       feature_19  feature_20  \n",
       "count  880.000000  880.000000  \n",
       "mean    -0.253751    0.224729  \n",
       "std      2.713216    1.817562  \n",
       "min     -8.794930   -6.595589  \n",
       "25%     -1.981761   -0.953449  \n",
       "50%     -0.236568    0.258096  \n",
       "75%      1.637143    1.486336  \n",
       "max      7.641671    5.540040  "
      ]
     },
     "execution_count": 11,
     "metadata": {},
     "output_type": "execute_result"
    }
   ],
   "source": [
    "features_train.describe()"
   ]
  },
  {
   "cell_type": "markdown",
   "metadata": {},
   "source": [
    "We store the column names for later:"
   ]
  },
  {
   "cell_type": "code",
   "execution_count": 12,
   "metadata": {},
   "outputs": [],
   "source": [
    "columns_names = list(features_train.columns)"
   ]
  },
  {
   "cell_type": "markdown",
   "metadata": {},
   "source": [
    "We proceed by standardizing our features, which is a requirement for the optimal performance of many algorithms:"
   ]
  },
  {
   "cell_type": "code",
   "execution_count": 13,
   "metadata": {},
   "outputs": [
    {
     "data": {
      "text/html": [
       "<div>\n",
       "<style scoped>\n",
       "    .dataframe tbody tr th:only-of-type {\n",
       "        vertical-align: middle;\n",
       "    }\n",
       "\n",
       "    .dataframe tbody tr th {\n",
       "        vertical-align: top;\n",
       "    }\n",
       "\n",
       "    .dataframe thead th {\n",
       "        text-align: right;\n",
       "    }\n",
       "</style>\n",
       "<table border=\"1\" class=\"dataframe\">\n",
       "  <thead>\n",
       "    <tr style=\"text-align: right;\">\n",
       "      <th></th>\n",
       "      <th>0</th>\n",
       "      <th>1</th>\n",
       "      <th>2</th>\n",
       "      <th>3</th>\n",
       "      <th>4</th>\n",
       "      <th>5</th>\n",
       "      <th>6</th>\n",
       "      <th>7</th>\n",
       "      <th>8</th>\n",
       "      <th>9</th>\n",
       "      <th>10</th>\n",
       "      <th>11</th>\n",
       "      <th>12</th>\n",
       "      <th>13</th>\n",
       "      <th>14</th>\n",
       "      <th>15</th>\n",
       "      <th>16</th>\n",
       "      <th>17</th>\n",
       "      <th>18</th>\n",
       "      <th>19</th>\n",
       "    </tr>\n",
       "  </thead>\n",
       "  <tbody>\n",
       "    <tr>\n",
       "      <th>count</th>\n",
       "      <td>8.800000e+02</td>\n",
       "      <td>8.800000e+02</td>\n",
       "      <td>8.800000e+02</td>\n",
       "      <td>8.800000e+02</td>\n",
       "      <td>8.800000e+02</td>\n",
       "      <td>8.800000e+02</td>\n",
       "      <td>8.800000e+02</td>\n",
       "      <td>8.800000e+02</td>\n",
       "      <td>8.800000e+02</td>\n",
       "      <td>8.800000e+02</td>\n",
       "      <td>8.800000e+02</td>\n",
       "      <td>8.800000e+02</td>\n",
       "      <td>8.800000e+02</td>\n",
       "      <td>8.800000e+02</td>\n",
       "      <td>8.800000e+02</td>\n",
       "      <td>8.800000e+02</td>\n",
       "      <td>8.800000e+02</td>\n",
       "      <td>8.800000e+02</td>\n",
       "      <td>8.800000e+02</td>\n",
       "      <td>8.800000e+02</td>\n",
       "    </tr>\n",
       "    <tr>\n",
       "      <th>mean</th>\n",
       "      <td>7.065056e-18</td>\n",
       "      <td>-2.802367e-17</td>\n",
       "      <td>-1.513940e-18</td>\n",
       "      <td>5.756128e-19</td>\n",
       "      <td>3.532528e-18</td>\n",
       "      <td>-8.831320e-18</td>\n",
       "      <td>2.144749e-17</td>\n",
       "      <td>-6.812732e-18</td>\n",
       "      <td>-1.160688e-17</td>\n",
       "      <td>-3.406366e-17</td>\n",
       "      <td>7.317379e-17</td>\n",
       "      <td>-3.179275e-17</td>\n",
       "      <td>1.665335e-17</td>\n",
       "      <td>3.450523e-17</td>\n",
       "      <td>3.582992e-17</td>\n",
       "      <td>1.413011e-17</td>\n",
       "      <td>-8.074349e-18</td>\n",
       "      <td>8.326673e-18</td>\n",
       "      <td>-1.286849e-17</td>\n",
       "      <td>-1.715799e-17</td>\n",
       "    </tr>\n",
       "    <tr>\n",
       "      <th>std</th>\n",
       "      <td>1.000569e+00</td>\n",
       "      <td>1.000569e+00</td>\n",
       "      <td>1.000569e+00</td>\n",
       "      <td>1.000569e+00</td>\n",
       "      <td>1.000569e+00</td>\n",
       "      <td>1.000569e+00</td>\n",
       "      <td>1.000569e+00</td>\n",
       "      <td>1.000569e+00</td>\n",
       "      <td>1.000569e+00</td>\n",
       "      <td>1.000569e+00</td>\n",
       "      <td>1.000569e+00</td>\n",
       "      <td>1.000569e+00</td>\n",
       "      <td>1.000569e+00</td>\n",
       "      <td>1.000569e+00</td>\n",
       "      <td>1.000569e+00</td>\n",
       "      <td>1.000569e+00</td>\n",
       "      <td>1.000569e+00</td>\n",
       "      <td>1.000569e+00</td>\n",
       "      <td>1.000569e+00</td>\n",
       "      <td>1.000569e+00</td>\n",
       "    </tr>\n",
       "    <tr>\n",
       "      <th>min</th>\n",
       "      <td>-3.834217e+00</td>\n",
       "      <td>-3.376052e+00</td>\n",
       "      <td>-4.110594e+00</td>\n",
       "      <td>-3.436980e+00</td>\n",
       "      <td>-2.960381e+00</td>\n",
       "      <td>-3.072602e+00</td>\n",
       "      <td>-3.371246e+00</td>\n",
       "      <td>-3.152283e+00</td>\n",
       "      <td>-4.290460e+00</td>\n",
       "      <td>-3.051311e+00</td>\n",
       "      <td>-3.127842e+00</td>\n",
       "      <td>-3.638184e+00</td>\n",
       "      <td>-4.326211e+00</td>\n",
       "      <td>-2.757222e+00</td>\n",
       "      <td>-3.502814e+00</td>\n",
       "      <td>-2.879775e+00</td>\n",
       "      <td>-3.700317e+00</td>\n",
       "      <td>-3.166024e+00</td>\n",
       "      <td>-3.149780e+00</td>\n",
       "      <td>-3.754588e+00</td>\n",
       "    </tr>\n",
       "    <tr>\n",
       "      <th>25%</th>\n",
       "      <td>-6.146690e-01</td>\n",
       "      <td>-6.324197e-01</td>\n",
       "      <td>-6.872281e-01</td>\n",
       "      <td>-6.810326e-01</td>\n",
       "      <td>-6.752149e-01</td>\n",
       "      <td>-6.127967e-01</td>\n",
       "      <td>-6.393552e-01</td>\n",
       "      <td>-6.807926e-01</td>\n",
       "      <td>-6.659931e-01</td>\n",
       "      <td>-6.575495e-01</td>\n",
       "      <td>-6.576633e-01</td>\n",
       "      <td>-6.789440e-01</td>\n",
       "      <td>-6.484937e-01</td>\n",
       "      <td>-7.146619e-01</td>\n",
       "      <td>-6.449144e-01</td>\n",
       "      <td>-6.571129e-01</td>\n",
       "      <td>-6.387422e-01</td>\n",
       "      <td>-6.286061e-01</td>\n",
       "      <td>-6.372483e-01</td>\n",
       "      <td>-6.485870e-01</td>\n",
       "    </tr>\n",
       "    <tr>\n",
       "      <th>50%</th>\n",
       "      <td>-5.111848e-02</td>\n",
       "      <td>3.593129e-03</td>\n",
       "      <td>2.159576e-02</td>\n",
       "      <td>-8.233045e-02</td>\n",
       "      <td>2.643167e-03</td>\n",
       "      <td>-2.793069e-02</td>\n",
       "      <td>3.905928e-02</td>\n",
       "      <td>2.727290e-03</td>\n",
       "      <td>5.874137e-02</td>\n",
       "      <td>-6.131535e-02</td>\n",
       "      <td>-5.060978e-02</td>\n",
       "      <td>3.382068e-03</td>\n",
       "      <td>1.297505e-02</td>\n",
       "      <td>2.382254e-02</td>\n",
       "      <td>-2.833331e-02</td>\n",
       "      <td>-2.392734e-02</td>\n",
       "      <td>-3.571795e-02</td>\n",
       "      <td>2.220634e-02</td>\n",
       "      <td>6.336686e-03</td>\n",
       "      <td>1.836888e-02</td>\n",
       "    </tr>\n",
       "    <tr>\n",
       "      <th>75%</th>\n",
       "      <td>6.266346e-01</td>\n",
       "      <td>6.470853e-01</td>\n",
       "      <td>6.557546e-01</td>\n",
       "      <td>6.215917e-01</td>\n",
       "      <td>6.325095e-01</td>\n",
       "      <td>6.322656e-01</td>\n",
       "      <td>6.777188e-01</td>\n",
       "      <td>6.481510e-01</td>\n",
       "      <td>6.828741e-01</td>\n",
       "      <td>6.887570e-01</td>\n",
       "      <td>6.580427e-01</td>\n",
       "      <td>6.555325e-01</td>\n",
       "      <td>6.759643e-01</td>\n",
       "      <td>6.895431e-01</td>\n",
       "      <td>6.468012e-01</td>\n",
       "      <td>6.122858e-01</td>\n",
       "      <td>6.266807e-01</td>\n",
       "      <td>6.539213e-01</td>\n",
       "      <td>6.973164e-01</td>\n",
       "      <td>6.945155e-01</td>\n",
       "    </tr>\n",
       "    <tr>\n",
       "      <th>max</th>\n",
       "      <td>3.033204e+00</td>\n",
       "      <td>2.799150e+00</td>\n",
       "      <td>2.981802e+00</td>\n",
       "      <td>3.134520e+00</td>\n",
       "      <td>3.107905e+00</td>\n",
       "      <td>3.429549e+00</td>\n",
       "      <td>3.047289e+00</td>\n",
       "      <td>4.209025e+00</td>\n",
       "      <td>3.431389e+00</td>\n",
       "      <td>3.315321e+00</td>\n",
       "      <td>3.369578e+00</td>\n",
       "      <td>4.153275e+00</td>\n",
       "      <td>3.887023e+00</td>\n",
       "      <td>3.202682e+00</td>\n",
       "      <td>3.803059e+00</td>\n",
       "      <td>4.293048e+00</td>\n",
       "      <td>3.721026e+00</td>\n",
       "      <td>3.376070e+00</td>\n",
       "      <td>2.911641e+00</td>\n",
       "      <td>2.926081e+00</td>\n",
       "    </tr>\n",
       "  </tbody>\n",
       "</table>\n",
       "</div>"
      ],
      "text/plain": [
       "                 0             1             2             3             4   \\\n",
       "count  8.800000e+02  8.800000e+02  8.800000e+02  8.800000e+02  8.800000e+02   \n",
       "mean   7.065056e-18 -2.802367e-17 -1.513940e-18  5.756128e-19  3.532528e-18   \n",
       "std    1.000569e+00  1.000569e+00  1.000569e+00  1.000569e+00  1.000569e+00   \n",
       "min   -3.834217e+00 -3.376052e+00 -4.110594e+00 -3.436980e+00 -2.960381e+00   \n",
       "25%   -6.146690e-01 -6.324197e-01 -6.872281e-01 -6.810326e-01 -6.752149e-01   \n",
       "50%   -5.111848e-02  3.593129e-03  2.159576e-02 -8.233045e-02  2.643167e-03   \n",
       "75%    6.266346e-01  6.470853e-01  6.557546e-01  6.215917e-01  6.325095e-01   \n",
       "max    3.033204e+00  2.799150e+00  2.981802e+00  3.134520e+00  3.107905e+00   \n",
       "\n",
       "                 5             6             7             8             9   \\\n",
       "count  8.800000e+02  8.800000e+02  8.800000e+02  8.800000e+02  8.800000e+02   \n",
       "mean  -8.831320e-18  2.144749e-17 -6.812732e-18 -1.160688e-17 -3.406366e-17   \n",
       "std    1.000569e+00  1.000569e+00  1.000569e+00  1.000569e+00  1.000569e+00   \n",
       "min   -3.072602e+00 -3.371246e+00 -3.152283e+00 -4.290460e+00 -3.051311e+00   \n",
       "25%   -6.127967e-01 -6.393552e-01 -6.807926e-01 -6.659931e-01 -6.575495e-01   \n",
       "50%   -2.793069e-02  3.905928e-02  2.727290e-03  5.874137e-02 -6.131535e-02   \n",
       "75%    6.322656e-01  6.777188e-01  6.481510e-01  6.828741e-01  6.887570e-01   \n",
       "max    3.429549e+00  3.047289e+00  4.209025e+00  3.431389e+00  3.315321e+00   \n",
       "\n",
       "                 10            11            12            13            14  \\\n",
       "count  8.800000e+02  8.800000e+02  8.800000e+02  8.800000e+02  8.800000e+02   \n",
       "mean   7.317379e-17 -3.179275e-17  1.665335e-17  3.450523e-17  3.582992e-17   \n",
       "std    1.000569e+00  1.000569e+00  1.000569e+00  1.000569e+00  1.000569e+00   \n",
       "min   -3.127842e+00 -3.638184e+00 -4.326211e+00 -2.757222e+00 -3.502814e+00   \n",
       "25%   -6.576633e-01 -6.789440e-01 -6.484937e-01 -7.146619e-01 -6.449144e-01   \n",
       "50%   -5.060978e-02  3.382068e-03  1.297505e-02  2.382254e-02 -2.833331e-02   \n",
       "75%    6.580427e-01  6.555325e-01  6.759643e-01  6.895431e-01  6.468012e-01   \n",
       "max    3.369578e+00  4.153275e+00  3.887023e+00  3.202682e+00  3.803059e+00   \n",
       "\n",
       "                 15            16            17            18            19  \n",
       "count  8.800000e+02  8.800000e+02  8.800000e+02  8.800000e+02  8.800000e+02  \n",
       "mean   1.413011e-17 -8.074349e-18  8.326673e-18 -1.286849e-17 -1.715799e-17  \n",
       "std    1.000569e+00  1.000569e+00  1.000569e+00  1.000569e+00  1.000569e+00  \n",
       "min   -2.879775e+00 -3.700317e+00 -3.166024e+00 -3.149780e+00 -3.754588e+00  \n",
       "25%   -6.571129e-01 -6.387422e-01 -6.286061e-01 -6.372483e-01 -6.485870e-01  \n",
       "50%   -2.392734e-02 -3.571795e-02  2.220634e-02  6.336686e-03  1.836888e-02  \n",
       "75%    6.122858e-01  6.266807e-01  6.539213e-01  6.973164e-01  6.945155e-01  \n",
       "max    4.293048e+00  3.721026e+00  3.376070e+00  2.911641e+00  2.926081e+00  "
      ]
     },
     "execution_count": 13,
     "metadata": {},
     "output_type": "execute_result"
    }
   ],
   "source": [
    "from sklearn.preprocessing import StandardScaler\n",
    "scaler = StandardScaler()\n",
    "features_train = pd.DataFrame(scaler.fit_transform(features_train))\n",
    "features_test = pd.DataFrame(scaler.transform(features_test))\n",
    "features_train.describe()"
   ]
  },
  {
   "cell_type": "markdown",
   "metadata": {},
   "source": [
    "Original names of columns are restored:"
   ]
  },
  {
   "cell_type": "code",
   "execution_count": 14,
   "metadata": {},
   "outputs": [
    {
     "data": {
      "text/html": [
       "<div>\n",
       "<style scoped>\n",
       "    .dataframe tbody tr th:only-of-type {\n",
       "        vertical-align: middle;\n",
       "    }\n",
       "\n",
       "    .dataframe tbody tr th {\n",
       "        vertical-align: top;\n",
       "    }\n",
       "\n",
       "    .dataframe thead th {\n",
       "        text-align: right;\n",
       "    }\n",
       "</style>\n",
       "<table border=\"1\" class=\"dataframe\">\n",
       "  <thead>\n",
       "    <tr style=\"text-align: right;\">\n",
       "      <th></th>\n",
       "      <th>feature_1</th>\n",
       "      <th>feature_2</th>\n",
       "      <th>feature_3</th>\n",
       "      <th>feature_4</th>\n",
       "      <th>feature_5</th>\n",
       "      <th>feature_6</th>\n",
       "      <th>feature_7</th>\n",
       "      <th>feature_8</th>\n",
       "      <th>feature_9</th>\n",
       "      <th>feature_10</th>\n",
       "      <th>feature_11</th>\n",
       "      <th>feature_12</th>\n",
       "      <th>feature_13</th>\n",
       "      <th>feature_14</th>\n",
       "      <th>feature_15</th>\n",
       "      <th>feature_16</th>\n",
       "      <th>feature_17</th>\n",
       "      <th>feature_18</th>\n",
       "      <th>feature_19</th>\n",
       "      <th>feature_20</th>\n",
       "    </tr>\n",
       "  </thead>\n",
       "  <tbody>\n",
       "    <tr>\n",
       "      <th>0</th>\n",
       "      <td>-1.085538</td>\n",
       "      <td>0.765764</td>\n",
       "      <td>-0.695891</td>\n",
       "      <td>-0.469343</td>\n",
       "      <td>1.227507</td>\n",
       "      <td>0.537490</td>\n",
       "      <td>0.902729</td>\n",
       "      <td>1.574650</td>\n",
       "      <td>0.349962</td>\n",
       "      <td>0.180539</td>\n",
       "      <td>0.379289</td>\n",
       "      <td>1.003791</td>\n",
       "      <td>-0.901970</td>\n",
       "      <td>0.053561</td>\n",
       "      <td>1.037132</td>\n",
       "      <td>1.597082</td>\n",
       "      <td>-0.789381</td>\n",
       "      <td>-0.528199</td>\n",
       "      <td>-0.937186</td>\n",
       "      <td>-0.554580</td>\n",
       "    </tr>\n",
       "    <tr>\n",
       "      <th>1</th>\n",
       "      <td>0.254467</td>\n",
       "      <td>-1.147200</td>\n",
       "      <td>0.371198</td>\n",
       "      <td>-0.051364</td>\n",
       "      <td>-0.840627</td>\n",
       "      <td>-1.243326</td>\n",
       "      <td>0.868299</td>\n",
       "      <td>1.560130</td>\n",
       "      <td>0.100796</td>\n",
       "      <td>-0.418192</td>\n",
       "      <td>0.535730</td>\n",
       "      <td>1.003346</td>\n",
       "      <td>-0.331661</td>\n",
       "      <td>1.313362</td>\n",
       "      <td>1.621960</td>\n",
       "      <td>0.120923</td>\n",
       "      <td>-1.588092</td>\n",
       "      <td>-0.603363</td>\n",
       "      <td>-1.507043</td>\n",
       "      <td>-0.341477</td>\n",
       "    </tr>\n",
       "    <tr>\n",
       "      <th>2</th>\n",
       "      <td>-1.203791</td>\n",
       "      <td>2.799150</td>\n",
       "      <td>-0.758356</td>\n",
       "      <td>-0.740229</td>\n",
       "      <td>1.075305</td>\n",
       "      <td>0.712300</td>\n",
       "      <td>-1.274770</td>\n",
       "      <td>-1.332545</td>\n",
       "      <td>0.789160</td>\n",
       "      <td>0.537114</td>\n",
       "      <td>0.875494</td>\n",
       "      <td>-0.483871</td>\n",
       "      <td>-0.193534</td>\n",
       "      <td>-2.198074</td>\n",
       "      <td>-2.708113</td>\n",
       "      <td>1.185229</td>\n",
       "      <td>2.444947</td>\n",
       "      <td>1.686438</td>\n",
       "      <td>-0.251942</td>\n",
       "      <td>-2.726356</td>\n",
       "    </tr>\n",
       "    <tr>\n",
       "      <th>3</th>\n",
       "      <td>1.973428</td>\n",
       "      <td>-0.455306</td>\n",
       "      <td>-0.274641</td>\n",
       "      <td>1.489148</td>\n",
       "      <td>-1.314645</td>\n",
       "      <td>3.044402</td>\n",
       "      <td>-0.595091</td>\n",
       "      <td>-1.884832</td>\n",
       "      <td>-0.920996</td>\n",
       "      <td>1.748162</td>\n",
       "      <td>2.325788</td>\n",
       "      <td>0.402764</td>\n",
       "      <td>3.086713</td>\n",
       "      <td>1.235213</td>\n",
       "      <td>-1.165454</td>\n",
       "      <td>0.077315</td>\n",
       "      <td>0.340763</td>\n",
       "      <td>-1.042556</td>\n",
       "      <td>-1.366962</td>\n",
       "      <td>1.612766</td>\n",
       "    </tr>\n",
       "    <tr>\n",
       "      <th>4</th>\n",
       "      <td>-1.268769</td>\n",
       "      <td>1.492139</td>\n",
       "      <td>0.024246</td>\n",
       "      <td>-1.298050</td>\n",
       "      <td>2.917038</td>\n",
       "      <td>-0.422307</td>\n",
       "      <td>-1.814741</td>\n",
       "      <td>-0.056492</td>\n",
       "      <td>0.827207</td>\n",
       "      <td>0.123643</td>\n",
       "      <td>0.747878</td>\n",
       "      <td>1.349417</td>\n",
       "      <td>-1.433624</td>\n",
       "      <td>-0.482669</td>\n",
       "      <td>-0.486655</td>\n",
       "      <td>0.513257</td>\n",
       "      <td>1.104402</td>\n",
       "      <td>2.309249</td>\n",
       "      <td>1.189093</td>\n",
       "      <td>-1.452288</td>\n",
       "    </tr>\n",
       "  </tbody>\n",
       "</table>\n",
       "</div>"
      ],
      "text/plain": [
       "   feature_1  feature_2  feature_3  feature_4  feature_5  feature_6  \\\n",
       "0  -1.085538   0.765764  -0.695891  -0.469343   1.227507   0.537490   \n",
       "1   0.254467  -1.147200   0.371198  -0.051364  -0.840627  -1.243326   \n",
       "2  -1.203791   2.799150  -0.758356  -0.740229   1.075305   0.712300   \n",
       "3   1.973428  -0.455306  -0.274641   1.489148  -1.314645   3.044402   \n",
       "4  -1.268769   1.492139   0.024246  -1.298050   2.917038  -0.422307   \n",
       "\n",
       "   feature_7  feature_8  feature_9  feature_10  feature_11  feature_12  \\\n",
       "0   0.902729   1.574650   0.349962    0.180539    0.379289    1.003791   \n",
       "1   0.868299   1.560130   0.100796   -0.418192    0.535730    1.003346   \n",
       "2  -1.274770  -1.332545   0.789160    0.537114    0.875494   -0.483871   \n",
       "3  -0.595091  -1.884832  -0.920996    1.748162    2.325788    0.402764   \n",
       "4  -1.814741  -0.056492   0.827207    0.123643    0.747878    1.349417   \n",
       "\n",
       "   feature_13  feature_14  feature_15  feature_16  feature_17  feature_18  \\\n",
       "0   -0.901970    0.053561    1.037132    1.597082   -0.789381   -0.528199   \n",
       "1   -0.331661    1.313362    1.621960    0.120923   -1.588092   -0.603363   \n",
       "2   -0.193534   -2.198074   -2.708113    1.185229    2.444947    1.686438   \n",
       "3    3.086713    1.235213   -1.165454    0.077315    0.340763   -1.042556   \n",
       "4   -1.433624   -0.482669   -0.486655    0.513257    1.104402    2.309249   \n",
       "\n",
       "   feature_19  feature_20  \n",
       "0   -0.937186   -0.554580  \n",
       "1   -1.507043   -0.341477  \n",
       "2   -0.251942   -2.726356  \n",
       "3   -1.366962    1.612766  \n",
       "4    1.189093   -1.452288  "
      ]
     },
     "execution_count": 14,
     "metadata": {},
     "output_type": "execute_result"
    }
   ],
   "source": [
    "features_train.set_axis(columns_names, \n",
    "                    axis='columns', inplace=True)\n",
    "\n",
    "features_train.head()"
   ]
  },
  {
   "cell_type": "code",
   "execution_count": 15,
   "metadata": {},
   "outputs": [
    {
     "data": {
      "text/html": [
       "<div>\n",
       "<style scoped>\n",
       "    .dataframe tbody tr th:only-of-type {\n",
       "        vertical-align: middle;\n",
       "    }\n",
       "\n",
       "    .dataframe tbody tr th {\n",
       "        vertical-align: top;\n",
       "    }\n",
       "\n",
       "    .dataframe thead th {\n",
       "        text-align: right;\n",
       "    }\n",
       "</style>\n",
       "<table border=\"1\" class=\"dataframe\">\n",
       "  <thead>\n",
       "    <tr style=\"text-align: right;\">\n",
       "      <th></th>\n",
       "      <th>feature_1</th>\n",
       "      <th>feature_2</th>\n",
       "      <th>feature_3</th>\n",
       "      <th>feature_4</th>\n",
       "      <th>feature_5</th>\n",
       "      <th>feature_6</th>\n",
       "      <th>feature_7</th>\n",
       "      <th>feature_8</th>\n",
       "      <th>feature_9</th>\n",
       "      <th>feature_10</th>\n",
       "      <th>feature_11</th>\n",
       "      <th>feature_12</th>\n",
       "      <th>feature_13</th>\n",
       "      <th>feature_14</th>\n",
       "      <th>feature_15</th>\n",
       "      <th>feature_16</th>\n",
       "      <th>feature_17</th>\n",
       "      <th>feature_18</th>\n",
       "      <th>feature_19</th>\n",
       "      <th>feature_20</th>\n",
       "    </tr>\n",
       "  </thead>\n",
       "  <tbody>\n",
       "    <tr>\n",
       "      <th>0</th>\n",
       "      <td>-1.074343</td>\n",
       "      <td>0.349790</td>\n",
       "      <td>-0.027004</td>\n",
       "      <td>-0.549531</td>\n",
       "      <td>0.279572</td>\n",
       "      <td>-0.506952</td>\n",
       "      <td>0.528511</td>\n",
       "      <td>-0.026668</td>\n",
       "      <td>0.139958</td>\n",
       "      <td>-0.305059</td>\n",
       "      <td>-0.112448</td>\n",
       "      <td>0.413448</td>\n",
       "      <td>-0.916554</td>\n",
       "      <td>0.002606</td>\n",
       "      <td>0.130055</td>\n",
       "      <td>0.457148</td>\n",
       "      <td>1.071333</td>\n",
       "      <td>0.357913</td>\n",
       "      <td>0.197274</td>\n",
       "      <td>-0.617086</td>\n",
       "    </tr>\n",
       "    <tr>\n",
       "      <th>1</th>\n",
       "      <td>0.095063</td>\n",
       "      <td>0.629222</td>\n",
       "      <td>-1.034312</td>\n",
       "      <td>-0.349998</td>\n",
       "      <td>0.877733</td>\n",
       "      <td>1.060078</td>\n",
       "      <td>-1.771646</td>\n",
       "      <td>-0.657924</td>\n",
       "      <td>-0.821418</td>\n",
       "      <td>-0.098206</td>\n",
       "      <td>0.430404</td>\n",
       "      <td>0.581260</td>\n",
       "      <td>-0.043507</td>\n",
       "      <td>-0.295122</td>\n",
       "      <td>0.064864</td>\n",
       "      <td>0.294320</td>\n",
       "      <td>0.957537</td>\n",
       "      <td>0.328188</td>\n",
       "      <td>-0.803098</td>\n",
       "      <td>0.471303</td>\n",
       "    </tr>\n",
       "    <tr>\n",
       "      <th>2</th>\n",
       "      <td>-1.076398</td>\n",
       "      <td>-0.272210</td>\n",
       "      <td>-0.523264</td>\n",
       "      <td>-1.112903</td>\n",
       "      <td>0.326727</td>\n",
       "      <td>-1.393846</td>\n",
       "      <td>0.755563</td>\n",
       "      <td>0.527263</td>\n",
       "      <td>0.344164</td>\n",
       "      <td>-0.836731</td>\n",
       "      <td>-1.528983</td>\n",
       "      <td>-1.191839</td>\n",
       "      <td>-2.087081</td>\n",
       "      <td>-0.764207</td>\n",
       "      <td>1.881837</td>\n",
       "      <td>0.280831</td>\n",
       "      <td>-0.427103</td>\n",
       "      <td>0.254969</td>\n",
       "      <td>1.251266</td>\n",
       "      <td>0.435372</td>\n",
       "    </tr>\n",
       "    <tr>\n",
       "      <th>3</th>\n",
       "      <td>0.379996</td>\n",
       "      <td>-2.397726</td>\n",
       "      <td>-0.616664</td>\n",
       "      <td>0.528304</td>\n",
       "      <td>-0.956936</td>\n",
       "      <td>0.636375</td>\n",
       "      <td>1.664538</td>\n",
       "      <td>-0.974921</td>\n",
       "      <td>-1.236523</td>\n",
       "      <td>0.670036</td>\n",
       "      <td>-0.301481</td>\n",
       "      <td>0.479187</td>\n",
       "      <td>0.646476</td>\n",
       "      <td>1.829227</td>\n",
       "      <td>2.535516</td>\n",
       "      <td>0.169314</td>\n",
       "      <td>-0.472648</td>\n",
       "      <td>-1.496145</td>\n",
       "      <td>1.381755</td>\n",
       "      <td>3.855605</td>\n",
       "    </tr>\n",
       "    <tr>\n",
       "      <th>4</th>\n",
       "      <td>0.238651</td>\n",
       "      <td>0.549910</td>\n",
       "      <td>-0.088254</td>\n",
       "      <td>-0.221217</td>\n",
       "      <td>0.083553</td>\n",
       "      <td>-0.162244</td>\n",
       "      <td>0.248207</td>\n",
       "      <td>-1.394506</td>\n",
       "      <td>-0.682969</td>\n",
       "      <td>0.731225</td>\n",
       "      <td>-0.991447</td>\n",
       "      <td>-1.279808</td>\n",
       "      <td>-0.315279</td>\n",
       "      <td>-0.537808</td>\n",
       "      <td>0.785603</td>\n",
       "      <td>0.057580</td>\n",
       "      <td>-0.528071</td>\n",
       "      <td>-0.412345</td>\n",
       "      <td>0.636126</td>\n",
       "      <td>0.756964</td>\n",
       "    </tr>\n",
       "  </tbody>\n",
       "</table>\n",
       "</div>"
      ],
      "text/plain": [
       "   feature_1  feature_2  feature_3  feature_4  feature_5  feature_6  \\\n",
       "0  -1.074343   0.349790  -0.027004  -0.549531   0.279572  -0.506952   \n",
       "1   0.095063   0.629222  -1.034312  -0.349998   0.877733   1.060078   \n",
       "2  -1.076398  -0.272210  -0.523264  -1.112903   0.326727  -1.393846   \n",
       "3   0.379996  -2.397726  -0.616664   0.528304  -0.956936   0.636375   \n",
       "4   0.238651   0.549910  -0.088254  -0.221217   0.083553  -0.162244   \n",
       "\n",
       "   feature_7  feature_8  feature_9  feature_10  feature_11  feature_12  \\\n",
       "0   0.528511  -0.026668   0.139958   -0.305059   -0.112448    0.413448   \n",
       "1  -1.771646  -0.657924  -0.821418   -0.098206    0.430404    0.581260   \n",
       "2   0.755563   0.527263   0.344164   -0.836731   -1.528983   -1.191839   \n",
       "3   1.664538  -0.974921  -1.236523    0.670036   -0.301481    0.479187   \n",
       "4   0.248207  -1.394506  -0.682969    0.731225   -0.991447   -1.279808   \n",
       "\n",
       "   feature_13  feature_14  feature_15  feature_16  feature_17  feature_18  \\\n",
       "0   -0.916554    0.002606    0.130055    0.457148    1.071333    0.357913   \n",
       "1   -0.043507   -0.295122    0.064864    0.294320    0.957537    0.328188   \n",
       "2   -2.087081   -0.764207    1.881837    0.280831   -0.427103    0.254969   \n",
       "3    0.646476    1.829227    2.535516    0.169314   -0.472648   -1.496145   \n",
       "4   -0.315279   -0.537808    0.785603    0.057580   -0.528071   -0.412345   \n",
       "\n",
       "   feature_19  feature_20  \n",
       "0    0.197274   -0.617086  \n",
       "1   -0.803098    0.471303  \n",
       "2    1.251266    0.435372  \n",
       "3    1.381755    3.855605  \n",
       "4    0.636126    0.756964  "
      ]
     },
     "execution_count": 15,
     "metadata": {},
     "output_type": "execute_result"
    }
   ],
   "source": [
    "features_test.set_axis(columns_names, \n",
    "                    axis='columns', inplace=True)\n",
    "\n",
    "features_test.head()"
   ]
  },
  {
   "cell_type": "markdown",
   "metadata": {},
   "source": [
    "Plots of features after standardization:"
   ]
  },
  {
   "cell_type": "code",
   "execution_count": 16,
   "metadata": {},
   "outputs": [
    {
     "data": {
      "image/png": "[encoded data removed]",
      "text/plain": [
       "<Figure size 1440x1080 with 20 Axes>"
      ]
     },
     "metadata": {
      "needs_background": "light"
     },
     "output_type": "display_data"
    }
   ],
   "source": [
    "%matplotlib inline\n",
    "import matplotlib.pyplot as plt\n",
    "features_train.hist(bins = 50, figsize=(20,15))\n",
    "plt.show()"
   ]
  },
  {
   "cell_type": "markdown",
   "metadata": {},
   "source": [
    "The  Correlation matrix depicts the correlation between all the possible pairs of values in a table:"
   ]
  },
  {
   "cell_type": "code",
   "execution_count": 17,
   "metadata": {},
   "outputs": [],
   "source": [
    "corr_matrix = features_train.corr()"
   ]
  },
  {
   "cell_type": "code",
   "execution_count": 18,
   "metadata": {},
   "outputs": [
    {
     "data": {
      "text/plain": [
       "<AxesSubplot:>"
      ]
     },
     "execution_count": 18,
     "metadata": {},
     "output_type": "execute_result"
    },
    {
     "data": {
      "image/png": "[encoded data removed]",
      "text/plain": [
       "<Figure size 1440x1440 with 2 Axes>"
      ]
     },
     "metadata": {
      "needs_background": "light"
     },
     "output_type": "display_data"
    }
   ],
   "source": [
    "import seaborn as sns\n",
    "plt.figure(figsize=(20,20))\n",
    "sns.heatmap(corr_matrix,annot=True, linewidths=.5, cmap='mako')"
   ]
  },
  {
   "cell_type": "markdown",
   "metadata": {},
   "source": [
    "We can see that there are no two features perfectly correted (corr = 1). At the same time, some features have a high degree of correlation (e.g. -0.83 between feature_16  and feature_3). We'll try to solve this issue later on."
   ]
  },
  {
   "cell_type": "markdown",
   "metadata": {},
   "source": [
    "# K-Nearest Neighbor Algorithm"
   ]
  },
  {
   "cell_type": "markdown",
   "metadata": {},
   "source": [
    "Import necessary modules:"
   ]
  },
  {
   "cell_type": "code",
   "execution_count": 19,
   "metadata": {},
   "outputs": [],
   "source": [
    "from sklearn.neighbors import KNeighborsClassifier\n",
    "from sklearn.model_selection import train_test_split\n",
    "from sklearn.datasets import load_iris"
   ]
  },
  {
   "cell_type": "markdown",
   "metadata": {},
   "source": [
    "**Training and test data accuracy**"
   ]
  },
  {
   "cell_type": "markdown",
   "metadata": {},
   "source": [
    "Loop over k values and compute accuracy:"
   ]
  },
  {
   "cell_type": "code",
   "execution_count": 20,
   "metadata": {},
   "outputs": [],
   "source": [
    "neighbors = np.arange(1, 15)\n",
    "train_accuracy = np.empty(len(neighbors))\n",
    "test_accuracy = np.empty(len(neighbors))\n",
    "\n",
    "for i, k in enumerate(neighbors):\n",
    "    knn = KNeighborsClassifier(n_neighbors = k)\n",
    "    knn.fit(features_train, label_train.values.ravel())\n",
    "    train_accuracy[i] = knn.score(features_train, label_train.values.ravel())\n",
    "    test_accuracy[i] = knn.score(features_test, label_test.values.ravel())\n",
    " "
   ]
  },
  {
   "cell_type": "markdown",
   "metadata": {},
   "source": [
    "Generate plot:"
   ]
  },
  {
   "cell_type": "code",
   "execution_count": 21,
   "metadata": {},
   "outputs": [
    {
     "data": {
      "image/png": "[encoded data removed]",
      "text/plain": [
       "<Figure size 432x288 with 1 Axes>"
      ]
     },
     "metadata": {
      "needs_background": "light"
     },
     "output_type": "display_data"
    }
   ],
   "source": [
    "plt.plot(neighbors, test_accuracy, label = 'Testing dataset Accuracy')\n",
    "plt.plot(neighbors, train_accuracy, label = 'Training dataset Accuracy')\n",
    " \n",
    "plt.legend()\n",
    "plt.xlabel('n_neighbors')\n",
    "plt.ylabel('Accuracy')\n",
    "plt.show()"
   ]
  },
  {
   "cell_type": "markdown",
   "metadata": {},
   "source": [
    "**Note:** This is a technique which is not used industry-wide to choose the correct value of n_neighbors. Instead, we do hyperparameter tuning to choose the value that gives the best performance:"
   ]
  },
  {
   "cell_type": "code",
   "execution_count": 22,
   "metadata": {},
   "outputs": [
    {
     "data": {
      "text/plain": [
       "GridSearchCV(estimator=KNeighborsClassifier(),\n",
       "             param_grid={'n_neighbors': range(1, 50)})"
      ]
     },
     "execution_count": 22,
     "metadata": {},
     "output_type": "execute_result"
    }
   ],
   "source": [
    "from sklearn.model_selection import GridSearchCV\n",
    "parameters = {\"n_neighbors\": range(1, 50)}\n",
    "gridsearch = GridSearchCV(KNeighborsClassifier(), parameters)\n",
    "gridsearch.fit(features_train, label_train.values.ravel())"
   ]
  },
  {
   "cell_type": "code",
   "execution_count": 23,
   "metadata": {},
   "outputs": [
    {
     "data": {
      "text/plain": [
       "{'n_neighbors': 12}"
      ]
     },
     "execution_count": 23,
     "metadata": {},
     "output_type": "execute_result"
    }
   ],
   "source": [
    "gridsearch.best_params_"
   ]
  },
  {
   "cell_type": "markdown",
   "metadata": {},
   "source": [
    "The optimal parameter, computed through Grid Search, is 12. Therefore, we will run the K-Nearest Neighbor algorithm with this parameter:"
   ]
  },
  {
   "cell_type": "code",
   "execution_count": 24,
   "metadata": {},
   "outputs": [
    {
     "data": {
      "text/plain": [
       "KNeighborsClassifier(n_neighbors=12)"
      ]
     },
     "execution_count": 24,
     "metadata": {},
     "output_type": "execute_result"
    }
   ],
   "source": [
    "opt_knn = KNeighborsClassifier(n_neighbors = 12)\n",
    " \n",
    "opt_knn.fit(features_train, label_train.values.ravel())"
   ]
  },
  {
   "cell_type": "markdown",
   "metadata": {},
   "source": [
    "Predict on dataset which model has not seen before (test set):"
   ]
  },
  {
   "cell_type": "code",
   "execution_count": 25,
   "metadata": {},
   "outputs": [
    {
     "name": "stdout",
     "output_type": "stream",
     "text": [
      "[2 0 0 2 0 2 1 3 4 0 2 1 4 1 0 4 0 2 1 2 1 4 0 1 0 3 0 3 0 3 0 1 0 4 1 1 0\n",
      " 1 1 0 1 3 1 0 4 1 0 3 0 2 3 2 3 1 2 2 0 1 2 4 4 1 1 0 3 0 3 3 0 1 2 1 4 4\n",
      " 1 0 0 4 2 2 2 2 4 3 2 2 3 0 1 2 2 2 2 1 3 3 0 4 1 0 2 0 1 0 4 3 2 1 1 1 0\n",
      " 3 3 4 0 4 2 3 0 4 1 0 3 3 3 1 0 1 3 3 0 1 1 3 0 3 1 2 1 2 3 2 1 3 3 4 0 1\n",
      " 0 0 2 4 1 3 1 0 0 0 1 1 2 4 3 2 0 0 0 3 0 3 0 4 2 1 3 0 0 2 3 0 3 1 0 0 0\n",
      " 0 1 0 2 0 2 2 2 2 2 1 2 3 1 0 3 0 3 3 0 2 0 0 1 3 2 3 4 0 4 3 1 0 2 0]\n"
     ]
    }
   ],
   "source": [
    "print(opt_knn.predict(features_test))"
   ]
  },
  {
   "cell_type": "markdown",
   "metadata": {},
   "source": [
    "The following table compares Real Values and Predicted Values of our test set:"
   ]
  },
  {
   "cell_type": "code",
   "execution_count": 26,
   "metadata": {},
   "outputs": [
    {
     "data": {
      "text/html": [
       "<div>\n",
       "<style scoped>\n",
       "    .dataframe tbody tr th:only-of-type {\n",
       "        vertical-align: middle;\n",
       "    }\n",
       "\n",
       "    .dataframe tbody tr th {\n",
       "        vertical-align: top;\n",
       "    }\n",
       "\n",
       "    .dataframe thead th {\n",
       "        text-align: right;\n",
       "    }\n",
       "</style>\n",
       "<table border=\"1\" class=\"dataframe\">\n",
       "  <thead>\n",
       "    <tr style=\"text-align: right;\">\n",
       "      <th></th>\n",
       "      <th>Real Values</th>\n",
       "      <th>Predicted Values</th>\n",
       "    </tr>\n",
       "  </thead>\n",
       "  <tbody>\n",
       "    <tr>\n",
       "      <th>0</th>\n",
       "      <td>4</td>\n",
       "      <td>2</td>\n",
       "    </tr>\n",
       "    <tr>\n",
       "      <th>1</th>\n",
       "      <td>3</td>\n",
       "      <td>0</td>\n",
       "    </tr>\n",
       "    <tr>\n",
       "      <th>2</th>\n",
       "      <td>4</td>\n",
       "      <td>0</td>\n",
       "    </tr>\n",
       "    <tr>\n",
       "      <th>3</th>\n",
       "      <td>2</td>\n",
       "      <td>2</td>\n",
       "    </tr>\n",
       "    <tr>\n",
       "      <th>4</th>\n",
       "      <td>3</td>\n",
       "      <td>0</td>\n",
       "    </tr>\n",
       "    <tr>\n",
       "      <th>...</th>\n",
       "      <td>...</td>\n",
       "      <td>...</td>\n",
       "    </tr>\n",
       "    <tr>\n",
       "      <th>215</th>\n",
       "      <td>1</td>\n",
       "      <td>3</td>\n",
       "    </tr>\n",
       "    <tr>\n",
       "      <th>216</th>\n",
       "      <td>2</td>\n",
       "      <td>1</td>\n",
       "    </tr>\n",
       "    <tr>\n",
       "      <th>217</th>\n",
       "      <td>0</td>\n",
       "      <td>0</td>\n",
       "    </tr>\n",
       "    <tr>\n",
       "      <th>218</th>\n",
       "      <td>2</td>\n",
       "      <td>2</td>\n",
       "    </tr>\n",
       "    <tr>\n",
       "      <th>219</th>\n",
       "      <td>4</td>\n",
       "      <td>0</td>\n",
       "    </tr>\n",
       "  </tbody>\n",
       "</table>\n",
       "<p>220 rows × 2 columns</p>\n",
       "</div>"
      ],
      "text/plain": [
       "     Real Values  Predicted Values\n",
       "0              4                 2\n",
       "1              3                 0\n",
       "2              4                 0\n",
       "3              2                 2\n",
       "4              3                 0\n",
       "..           ...               ...\n",
       "215            1                 3\n",
       "216            2                 1\n",
       "217            0                 0\n",
       "218            2                 2\n",
       "219            4                 0\n",
       "\n",
       "[220 rows x 2 columns]"
      ]
     },
     "execution_count": 26,
     "metadata": {},
     "output_type": "execute_result"
    }
   ],
   "source": [
    "df_1 = pd.DataFrame({'Real Values': label_test.values.ravel(), 'Predicted Values':opt_knn.predict(features_test)})\n",
    "df_1"
   ]
  },
  {
   "cell_type": "markdown",
   "metadata": {},
   "source": [
    "We compute the test mean squared error (for k = 12):"
   ]
  },
  {
   "cell_type": "code",
   "execution_count": 27,
   "metadata": {},
   "outputs": [
    {
     "data": {
      "text/plain": [
       "2.4272727272727272"
      ]
     },
     "execution_count": 27,
     "metadata": {},
     "output_type": "execute_result"
    }
   ],
   "source": [
    "from math import sqrt\n",
    "from sklearn.metrics import mean_squared_error\n",
    "test_preds = opt_knn.predict(features_test)\n",
    "mse = mean_squared_error(label_test, test_preds)\n",
    "mse"
   ]
  },
  {
   "cell_type": "markdown",
   "metadata": {},
   "source": [
    "And we see graphically how it varies with k:"
   ]
  },
  {
   "cell_type": "code",
   "execution_count": 28,
   "metadata": {},
   "outputs": [],
   "source": [
    "error = []\n",
    "\n",
    "# Calculating error for K values between 1 and 40\n",
    "for i in range(1, 40):\n",
    "    knn = KNeighborsClassifier(n_neighbors=i)\n",
    "    knn.fit(features_train, label_train.values.ravel())\n",
    "    pred_i = knn.predict(features_test)\n",
    "    error.append(mean_squared_error(label_test, pred_i))"
   ]
  },
  {
   "cell_type": "code",
   "execution_count": 29,
   "metadata": {},
   "outputs": [
    {
     "data": {
      "text/plain": [
       "Text(0, 0.5, 'Mean Squared Error')"
      ]
     },
     "execution_count": 29,
     "metadata": {},
     "output_type": "execute_result"
    },
    {
     "data": {
      "image/png": "[encoded data removed]",
      "text/plain": [
       "<Figure size 864x432 with 1 Axes>"
      ]
     },
     "metadata": {
      "needs_background": "light"
     },
     "output_type": "display_data"
    }
   ],
   "source": [
    "plt.figure(figsize=(12, 6))\n",
    "plt.plot(range(1, 40), error, color='blue', linestyle='dashed', marker='o',\n",
    "         markerfacecolor='black', markersize=10)\n",
    "plt.title('Error Rate K Value')\n",
    "plt.xlabel('K Value')\n",
    "plt.ylabel('Mean Squared Error')"
   ]
  },
  {
   "cell_type": "markdown",
   "metadata": {},
   "source": [
    "# Random Forest Algorithm"
   ]
  },
  {
   "cell_type": "code",
   "execution_count": 30,
   "metadata": {},
   "outputs": [
    {
     "name": "stdout",
     "output_type": "stream",
     "text": [
      "Parameters currently in use:\n",
      "\n",
      "{'bootstrap': True,\n",
      " 'ccp_alpha': 0.0,\n",
      " 'class_weight': None,\n",
      " 'criterion': 'gini',\n",
      " 'max_depth': None,\n",
      " 'max_features': 'auto',\n",
      " 'max_leaf_nodes': None,\n",
      " 'max_samples': None,\n",
      " 'min_impurity_decrease': 0.0,\n",
      " 'min_impurity_split': None,\n",
      " 'min_samples_leaf': 1,\n",
      " 'min_samples_split': 2,\n",
      " 'min_weight_fraction_leaf': 0.0,\n",
      " 'n_estimators': 100,\n",
      " 'n_jobs': None,\n",
      " 'oob_score': False,\n",
      " 'random_state': 16,\n",
      " 'verbose': 0,\n",
      " 'warm_start': False}\n"
     ]
    }
   ],
   "source": [
    "from sklearn.ensemble import RandomForestClassifier\n",
    "from pprint import pprint\n",
    "rnd_clf = RandomForestClassifier(random_state = 16)\n",
    "print('Parameters currently in use:\\n')\n",
    "pprint(rnd_clf.get_params())"
   ]
  },
  {
   "cell_type": "markdown",
   "metadata": {},
   "source": [
    "To use RandomizedSearchCV, we first need to create a parameter grid to sample from during fitting:"
   ]
  },
  {
   "cell_type": "code",
   "execution_count": 31,
   "metadata": {},
   "outputs": [
    {
     "name": "stdout",
     "output_type": "stream",
     "text": [
      "{'bootstrap': [True, False],\n",
      " 'max_depth': [10, 20, 30, 40, 50, 60, 70, 80, 90, 100, 110, None],\n",
      " 'max_features': ['auto', 'sqrt'],\n",
      " 'min_samples_leaf': [1, 2, 4],\n",
      " 'min_samples_split': [2, 5, 10],\n",
      " 'n_estimators': [40,\n",
      "                  90,\n",
      "                  141,\n",
      "                  191,\n",
      "                  242,\n",
      "                  292,\n",
      "                  343,\n",
      "                  393,\n",
      "                  444,\n",
      "                  494,\n",
      "                  545,\n",
      "                  595,\n",
      "                  646,\n",
      "                  696,\n",
      "                  747,\n",
      "                  797,\n",
      "                  848,\n",
      "                  898,\n",
      "                  949,\n",
      "                  1000]}\n"
     ]
    }
   ],
   "source": [
    "from sklearn.model_selection import RandomizedSearchCV\n",
    "from scipy.stats import uniform, truncnorm\n",
    "# Number of trees in random forest\n",
    "n_estimators = [int(x) for x in np.linspace(40, 1000, num = 20)]\n",
    "# Number of features to consider at every split\n",
    "max_features = ['auto','sqrt']\n",
    "# Maximum number of levels in tree\n",
    "max_depth = [int(x) for x in np.linspace(10, 110, num = 11)]\n",
    "max_depth.append(None)\n",
    "# Minimum number of samples required to split a node\n",
    "min_samples_split = [2, 5, 10]\n",
    "# Minimum number of samples required at each leaf node\n",
    "min_samples_leaf = [1, 2, 4]\n",
    "# Method of selecting samples for training each tree\n",
    "bootstrap = [True, False]\n",
    "random_grid = {'n_estimators': n_estimators,\n",
    "               'max_features': max_features,\n",
    "               'max_depth': max_depth,\n",
    "               'min_samples_split': min_samples_split,\n",
    "               'min_samples_leaf': min_samples_leaf,\n",
    "               'bootstrap': bootstrap}\n",
    "pprint(random_grid)"
   ]
  },
  {
   "cell_type": "markdown",
   "metadata": {},
   "source": [
    "Now, we instantiate the random search and fit it: "
   ]
  },
  {
   "cell_type": "code",
   "execution_count": 32,
   "metadata": {},
   "outputs": [
    {
     "name": "stdout",
     "output_type": "stream",
     "text": [
      "Fitting 3 folds for each of 50 candidates, totalling 150 fits\n"
     ]
    },
    {
     "name": "stderr",
     "output_type": "stream",
     "text": [
      "[Parallel(n_jobs=-1)]: Using backend LokyBackend with 4 concurrent workers.\n",
      "[Parallel(n_jobs=-1)]: Done  33 tasks      | elapsed:   23.2s\n",
      "[Parallel(n_jobs=-1)]: Done 150 out of 150 | elapsed:  1.8min finished\n"
     ]
    },
    {
     "data": {
      "text/plain": [
       "{'n_estimators': 494,\n",
       " 'min_samples_split': 2,\n",
       " 'min_samples_leaf': 1,\n",
       " 'max_features': 'auto',\n",
       " 'max_depth': 70,\n",
       " 'bootstrap': True}"
      ]
     },
     "execution_count": 32,
     "metadata": {},
     "output_type": "execute_result"
    }
   ],
   "source": [
    "clf = RandomizedSearchCV(estimator = rnd_clf, param_distributions = random_grid, n_iter = 50, cv = 3, verbose = 2, random_state = 16, n_jobs = -1)\n",
    "model = clf.fit(features_train, label_train.values.ravel())\n",
    "# print winning set of hyperparameters\n",
    "model.best_params_"
   ]
  },
  {
   "cell_type": "markdown",
   "metadata": {},
   "source": [
    "The optimal parameters are those computed through RandomizedSearchCV:"
   ]
  },
  {
   "cell_type": "code",
   "execution_count": 33,
   "metadata": {},
   "outputs": [
    {
     "data": {
      "text/plain": [
       "RandomForestClassifier(max_depth=70, n_estimators=494)"
      ]
     },
     "execution_count": 33,
     "metadata": {},
     "output_type": "execute_result"
    }
   ],
   "source": [
    "opt_rnd_clf = RandomForestClassifier(n_estimators= 494,min_samples_split=2, min_samples_leaf=1,\n",
    "                                     max_features= 'auto', max_depth= 70, bootstrap=True )\n",
    "opt_rnd_clf.fit(features_train, label_train.values.ravel())"
   ]
  },
  {
   "cell_type": "markdown",
   "metadata": {},
   "source": [
    "# Cross validation comparison"
   ]
  },
  {
   "cell_type": "markdown",
   "metadata": {},
   "source": [
    "We perform a cross validation process on both algorithms (K-Nearest and Random Forest) to see which of them outputs the highest accuracy:"
   ]
  },
  {
   "cell_type": "code",
   "execution_count": 34,
   "metadata": {
    "scrolled": true
   },
   "outputs": [],
   "source": [
    "from sklearn.model_selection import cross_val_score"
   ]
  },
  {
   "cell_type": "markdown",
   "metadata": {},
   "source": [
    "10-fold cross-validation with the best models; instead of saving 10 scores in object named score and calculating mean we're just calculating the mean directly on the results:"
   ]
  },
  {
   "cell_type": "code",
   "execution_count": 35,
   "metadata": {},
   "outputs": [
    {
     "name": "stdout",
     "output_type": "stream",
     "text": [
      "K-Nearest Neighbor accuracy= 0.5897727272727272\n",
      "Random forest accuracy= 0.5840909090909091\n"
     ]
    }
   ],
   "source": [
    "print('K-Nearest Neighbor accuracy =', cross_val_score(opt_knn, features_train, label_train.values.ravel(), cv=10, scoring='accuracy').mean())\n",
    "print('Random forest accuracy =',cross_val_score(opt_rnd_clf, features_train, label_train.values.ravel(), cv=10, scoring='accuracy').mean())"
   ]
  },
  {
   "cell_type": "markdown",
   "metadata": {},
   "source": [
    "The result are very similar, but K-Nearest looks slightly better. We'll now perform some additional tests on both algorithms."
   ]
  },
  {
   "cell_type": "code",
   "execution_count": 36,
   "metadata": {},
   "outputs": [],
   "source": [
    "label_pred_rf = opt_rnd_clf.predict(features_test)\n",
    "label_pred_knn = opt_knn.predict(features_test)"
   ]
  },
  {
   "cell_type": "markdown",
   "metadata": {},
   "source": [
    "As we did above, we compare Real and Predicted Values, this time in the case of Random Forest:"
   ]
  },
  {
   "cell_type": "code",
   "execution_count": 37,
   "metadata": {},
   "outputs": [
    {
     "data": {
      "text/html": [
       "<div>\n",
       "<style scoped>\n",
       "    .dataframe tbody tr th:only-of-type {\n",
       "        vertical-align: middle;\n",
       "    }\n",
       "\n",
       "    .dataframe tbody tr th {\n",
       "        vertical-align: top;\n",
       "    }\n",
       "\n",
       "    .dataframe thead th {\n",
       "        text-align: right;\n",
       "    }\n",
       "</style>\n",
       "<table border=\"1\" class=\"dataframe\">\n",
       "  <thead>\n",
       "    <tr style=\"text-align: right;\">\n",
       "      <th></th>\n",
       "      <th>Real Values</th>\n",
       "      <th>Predicted Values</th>\n",
       "    </tr>\n",
       "  </thead>\n",
       "  <tbody>\n",
       "    <tr>\n",
       "      <th>0</th>\n",
       "      <td>4</td>\n",
       "      <td>2</td>\n",
       "    </tr>\n",
       "    <tr>\n",
       "      <th>1</th>\n",
       "      <td>3</td>\n",
       "      <td>0</td>\n",
       "    </tr>\n",
       "    <tr>\n",
       "      <th>2</th>\n",
       "      <td>4</td>\n",
       "      <td>4</td>\n",
       "    </tr>\n",
       "    <tr>\n",
       "      <th>3</th>\n",
       "      <td>2</td>\n",
       "      <td>2</td>\n",
       "    </tr>\n",
       "    <tr>\n",
       "      <th>4</th>\n",
       "      <td>3</td>\n",
       "      <td>1</td>\n",
       "    </tr>\n",
       "    <tr>\n",
       "      <th>...</th>\n",
       "      <td>...</td>\n",
       "      <td>...</td>\n",
       "    </tr>\n",
       "    <tr>\n",
       "      <th>215</th>\n",
       "      <td>1</td>\n",
       "      <td>2</td>\n",
       "    </tr>\n",
       "    <tr>\n",
       "      <th>216</th>\n",
       "      <td>2</td>\n",
       "      <td>2</td>\n",
       "    </tr>\n",
       "    <tr>\n",
       "      <th>217</th>\n",
       "      <td>0</td>\n",
       "      <td>0</td>\n",
       "    </tr>\n",
       "    <tr>\n",
       "      <th>218</th>\n",
       "      <td>2</td>\n",
       "      <td>2</td>\n",
       "    </tr>\n",
       "    <tr>\n",
       "      <th>219</th>\n",
       "      <td>4</td>\n",
       "      <td>0</td>\n",
       "    </tr>\n",
       "  </tbody>\n",
       "</table>\n",
       "<p>220 rows × 2 columns</p>\n",
       "</div>"
      ],
      "text/plain": [
       "     Real Values  Predicted Values\n",
       "0              4                 2\n",
       "1              3                 0\n",
       "2              4                 4\n",
       "3              2                 2\n",
       "4              3                 1\n",
       "..           ...               ...\n",
       "215            1                 2\n",
       "216            2                 2\n",
       "217            0                 0\n",
       "218            2                 2\n",
       "219            4                 0\n",
       "\n",
       "[220 rows x 2 columns]"
      ]
     },
     "execution_count": 37,
     "metadata": {},
     "output_type": "execute_result"
    }
   ],
   "source": [
    "df_2 = pd.DataFrame({'Real Values': label_test.values.ravel(), 'Predicted Values':label_pred_rf})\n",
    "df_2"
   ]
  },
  {
   "cell_type": "markdown",
   "metadata": {},
   "source": [
    "We import some libraries to get results about our Random Forest algorithm, exploiting the test dataset:"
   ]
  },
  {
   "cell_type": "code",
   "execution_count": 38,
   "metadata": {},
   "outputs": [
    {
     "name": "stdout",
     "output_type": "stream",
     "text": [
      "Accuracy: 0.5454545454545454\n",
      "Mean Absolute Error: 0.8954545454545455\n",
      "Mean Squared Error: 2.159090909090909\n",
      "Root Mean Squared Error: 1.4693845341131466\n"
     ]
    }
   ],
   "source": [
    "from sklearn import metrics\n",
    "print(\"Accuracy:\",metrics.accuracy_score(label_test, label_pred_rf))\n",
    "print('Mean Absolute Error:', metrics.mean_absolute_error(label_test, label_pred_rf))\n",
    "print('Mean Squared Error:', metrics.mean_squared_error(label_test, label_pred_rf))\n",
    "print('Root Mean Squared Error:', np.sqrt(metrics.mean_squared_error(label_test, label_pred_rf)))"
   ]
  },
  {
   "cell_type": "code",
   "execution_count": 39,
   "metadata": {},
   "outputs": [
    {
     "name": "stdout",
     "output_type": "stream",
     "text": [
      "              precision    recall  f1-score   support\n",
      "\n",
      "           0       0.48      0.71      0.57        41\n",
      "           1       0.39      0.45      0.42        33\n",
      "           2       0.64      0.63      0.64        54\n",
      "           3       0.67      0.41      0.51        58\n",
      "           4       0.56      0.53      0.55        34\n",
      "\n",
      "    accuracy                           0.55       220\n",
      "   macro avg       0.55      0.55      0.54       220\n",
      "weighted avg       0.57      0.55      0.54       220\n",
      "\n"
     ]
    }
   ],
   "source": [
    "from sklearn.metrics import classification_report\n",
    "print(classification_report(label_test, label_pred_rf))"
   ]
  },
  {
   "cell_type": "markdown",
   "metadata": {},
   "source": [
    "To make it visuallly clearer, we print the \"confusion matrix\" for both K-Nearest and Random Forest:"
   ]
  },
  {
   "cell_type": "code",
   "execution_count": 40,
   "metadata": {},
   "outputs": [
    {
     "data": {
      "text/plain": [
       "Text(0.5, 1.0, 'KNN-Accuracy score: 0.55')"
      ]
     },
     "execution_count": 40,
     "metadata": {},
     "output_type": "execute_result"
    },
    {
     "data": {
      "image/png": "[encoded data removed]",
      "text/plain": [
       "<Figure size 648x648 with 2 Axes>"
      ]
     },
     "metadata": {
      "needs_background": "light"
     },
     "output_type": "display_data"
    }
   ],
   "source": [
    "from sklearn.metrics import confusion_matrix, accuracy_score\n",
    "\n",
    "conf_matr = confusion_matrix(label_test, label_pred_knn)\n",
    "acc = accuracy_score(label_test, label_pred_knn)\n",
    "\n",
    "plt.figure(figsize = (9,9))\n",
    "sns.heatmap(conf_matr, annot = True, fmt = \".0f\", linewidths = 5, square = True, cmap = 'mako');\n",
    "plt.ylabel('Actual label')\n",
    "plt.xlabel('Predicted label')\n",
    "all_sample_title = 'KNN-Accuracy score: {0}'.format(acc)\n",
    "plt.title(all_sample_title, size = 15)"
   ]
  },
  {
   "cell_type": "markdown",
   "metadata": {},
   "source": [
    "Below, the Random Forest matrix:"
   ]
  },
  {
   "cell_type": "code",
   "execution_count": 41,
   "metadata": {},
   "outputs": [
    {
     "data": {
      "text/plain": [
       "Text(0.5, 1.0, 'RF-Accuracy score: 0.5454545454545454')"
      ]
     },
     "execution_count": 41,
     "metadata": {},
     "output_type": "execute_result"
    },
    {
     "data": {
      "image/png": "[encoded data removed]",
      "text/plain": [
       "<Figure size 648x648 with 2 Axes>"
      ]
     },
     "metadata": {
      "needs_background": "light"
     },
     "output_type": "display_data"
    }
   ],
   "source": [
    "from sklearn.metrics import confusion_matrix, accuracy_score\n",
    "\n",
    "conf_matr = confusion_matrix(label_test, label_pred_rf)\n",
    "acc = accuracy_score(label_test, label_pred_rf)\n",
    "\n",
    "plt.figure(figsize = (9,9))\n",
    "sns.heatmap(conf_matr, annot = True, fmt = \".0f\", linewidths = 5, square = True, cmap = 'mako');\n",
    "plt.ylabel('Actual label')\n",
    "plt.xlabel('Predicted label')\n",
    "all_sample_title = 'RF-Accuracy score: {0}'.format(acc)\n",
    "plt.title(all_sample_title, size = 15)"
   ]
  },
  {
   "cell_type": "markdown",
   "metadata": {},
   "source": [
    "We now perfom the Feature importance test on the Random Forest algorithm:"
   ]
  },
  {
   "cell_type": "code",
   "execution_count": 42,
   "metadata": {},
   "outputs": [
    {
     "data": {
      "text/plain": [
       "feature_11    0.072610\n",
       "feature_18    0.061274\n",
       "feature_19    0.055200\n",
       "feature_8     0.054136\n",
       "feature_16    0.054020\n",
       "feature_7     0.053330\n",
       "feature_17    0.051256\n",
       "feature_20    0.049926\n",
       "feature_10    0.049659\n",
       "feature_14    0.049451\n",
       "feature_5     0.049135\n",
       "feature_12    0.047661\n",
       "feature_2     0.046802\n",
       "feature_4     0.046678\n",
       "feature_3     0.046040\n",
       "feature_6     0.043933\n",
       "feature_13    0.043177\n",
       "feature_15    0.042629\n",
       "feature_1     0.041970\n",
       "feature_9     0.041112\n",
       "dtype: float64"
      ]
     },
     "execution_count": 42,
     "metadata": {},
     "output_type": "execute_result"
    }
   ],
   "source": [
    "features_names=np.array(columns_names)\n",
    "feature_imp = pd.Series(opt_rnd_clf.feature_importances_,index=features_names).sort_values(ascending=False)\n",
    "feature_imp"
   ]
  },
  {
   "cell_type": "markdown",
   "metadata": {},
   "source": [
    "graphically:"
   ]
  },
  {
   "cell_type": "code",
   "execution_count": 43,
   "metadata": {},
   "outputs": [
    {
     "data": {
      "image/png": "[encoded data removed]",
      "text/plain": [
       "<Figure size 842.4x595.44 with 1 Axes>"
      ]
     },
     "metadata": {},
     "output_type": "display_data"
    }
   ],
   "source": [
    "import matplotlib.pyplot as plt\n",
    "import seaborn as sns\n",
    "%matplotlib inline\n",
    "# Creating a bar plot\n",
    "sns.set(rc={'figure.figsize':(11.7,8.27)})\n",
    "sns.barplot(x=feature_imp, y=feature_imp.index)\n",
    "# Add labels to the graph\n",
    "plt.xlabel('Feature Importance Score')\n",
    "plt.ylabel('Features')\n",
    "plt.title('Visualizing Important Features')\n",
    "plt.show()"
   ]
  },
  {
   "cell_type": "markdown",
   "metadata": {},
   "source": [
    "# PCA (Bonus part)"
   ]
  },
  {
   "cell_type": "markdown",
   "metadata": {},
   "source": [
    "In this section, we try to see if there is any improvement in the accuracy of our algorithms after a **Principal Component Analysis** is applied"
   ]
  },
  {
   "cell_type": "code",
   "execution_count": 44,
   "metadata": {},
   "outputs": [],
   "source": [
    "from sklearn.decomposition import PCA\n",
    "pca = PCA(0.95)"
   ]
  },
  {
   "cell_type": "markdown",
   "metadata": {},
   "source": [
    "In such a way scikit-learn choose the minimum number of principal components such that 95% of the variance is retained.\n",
    "We fit PCA on training set:"
   ]
  },
  {
   "cell_type": "code",
   "execution_count": 45,
   "metadata": {},
   "outputs": [
    {
     "data": {
      "text/plain": [
       "PCA(n_components=0.95)"
      ]
     },
     "execution_count": 45,
     "metadata": {},
     "output_type": "execute_result"
    }
   ],
   "source": [
    "pca.fit(features_train)"
   ]
  },
  {
   "cell_type": "markdown",
   "metadata": {},
   "source": [
    "then, we apply the mapping to both the training set and the test set:"
   ]
  },
  {
   "cell_type": "code",
   "execution_count": 46,
   "metadata": {},
   "outputs": [],
   "source": [
    "features_train_pca = pca.transform(features_train)\n",
    "features_test_pca = pca.transform(features_test)"
   ]
  },
  {
   "cell_type": "code",
   "execution_count": 47,
   "metadata": {},
   "outputs": [
    {
     "data": {
      "text/plain": [
       "(880, 12)"
      ]
     },
     "execution_count": 47,
     "metadata": {},
     "output_type": "execute_result"
    }
   ],
   "source": [
    "features_train_pca.shape"
   ]
  },
  {
   "cell_type": "markdown",
   "metadata": {},
   "source": [
    "We can see that the dimensionality of the dataset (the number of features) is reduced to 12 (before PCA it was 20)."
   ]
  },
  {
   "cell_type": "markdown",
   "metadata": {},
   "source": [
    "# K-Nearest Neighbors with PCA"
   ]
  },
  {
   "cell_type": "markdown",
   "metadata": {},
   "source": [
    "We rerun the same code as above, but now on tranformed data:"
   ]
  },
  {
   "cell_type": "code",
   "execution_count": 48,
   "metadata": {},
   "outputs": [
    {
     "data": {
      "text/plain": [
       "GridSearchCV(estimator=KNeighborsClassifier(),\n",
       "             param_grid={'n_neighbors': range(1, 50)})"
      ]
     },
     "execution_count": 48,
     "metadata": {},
     "output_type": "execute_result"
    }
   ],
   "source": [
    "parameters = {\"n_neighbors\": range(1, 50)}\n",
    "gridsearch = GridSearchCV(KNeighborsClassifier(), parameters)\n",
    "gridsearch.fit(features_train_pca, label_train.values.ravel())"
   ]
  },
  {
   "cell_type": "code",
   "execution_count": 49,
   "metadata": {},
   "outputs": [
    {
     "data": {
      "text/plain": [
       "{'n_neighbors': 13}"
      ]
     },
     "execution_count": 49,
     "metadata": {},
     "output_type": "execute_result"
    }
   ],
   "source": [
    "gridsearch.best_params_"
   ]
  },
  {
   "cell_type": "code",
   "execution_count": 50,
   "metadata": {},
   "outputs": [
    {
     "data": {
      "text/plain": [
       "KNeighborsClassifier(n_neighbors=13)"
      ]
     },
     "execution_count": 50,
     "metadata": {},
     "output_type": "execute_result"
    }
   ],
   "source": [
    "opt_knn_pca = KNeighborsClassifier(n_neighbors = 13)\n",
    " \n",
    "opt_knn_pca.fit(features_train_pca, label_train.values.ravel())"
   ]
  },
  {
   "cell_type": "code",
   "execution_count": 51,
   "metadata": {},
   "outputs": [
    {
     "data": {
      "text/html": [
       "<div>\n",
       "<style scoped>\n",
       "    .dataframe tbody tr th:only-of-type {\n",
       "        vertical-align: middle;\n",
       "    }\n",
       "\n",
       "    .dataframe tbody tr th {\n",
       "        vertical-align: top;\n",
       "    }\n",
       "\n",
       "    .dataframe thead th {\n",
       "        text-align: right;\n",
       "    }\n",
       "</style>\n",
       "<table border=\"1\" class=\"dataframe\">\n",
       "  <thead>\n",
       "    <tr style=\"text-align: right;\">\n",
       "      <th></th>\n",
       "      <th>Real Values</th>\n",
       "      <th>Predicted Values</th>\n",
       "    </tr>\n",
       "  </thead>\n",
       "  <tbody>\n",
       "    <tr>\n",
       "      <th>0</th>\n",
       "      <td>4</td>\n",
       "      <td>2</td>\n",
       "    </tr>\n",
       "    <tr>\n",
       "      <th>1</th>\n",
       "      <td>3</td>\n",
       "      <td>0</td>\n",
       "    </tr>\n",
       "    <tr>\n",
       "      <th>2</th>\n",
       "      <td>4</td>\n",
       "      <td>0</td>\n",
       "    </tr>\n",
       "    <tr>\n",
       "      <th>3</th>\n",
       "      <td>2</td>\n",
       "      <td>2</td>\n",
       "    </tr>\n",
       "    <tr>\n",
       "      <th>4</th>\n",
       "      <td>3</td>\n",
       "      <td>0</td>\n",
       "    </tr>\n",
       "    <tr>\n",
       "      <th>...</th>\n",
       "      <td>...</td>\n",
       "      <td>...</td>\n",
       "    </tr>\n",
       "    <tr>\n",
       "      <th>215</th>\n",
       "      <td>1</td>\n",
       "      <td>3</td>\n",
       "    </tr>\n",
       "    <tr>\n",
       "      <th>216</th>\n",
       "      <td>2</td>\n",
       "      <td>1</td>\n",
       "    </tr>\n",
       "    <tr>\n",
       "      <th>217</th>\n",
       "      <td>0</td>\n",
       "      <td>0</td>\n",
       "    </tr>\n",
       "    <tr>\n",
       "      <th>218</th>\n",
       "      <td>2</td>\n",
       "      <td>2</td>\n",
       "    </tr>\n",
       "    <tr>\n",
       "      <th>219</th>\n",
       "      <td>4</td>\n",
       "      <td>2</td>\n",
       "    </tr>\n",
       "  </tbody>\n",
       "</table>\n",
       "<p>220 rows × 2 columns</p>\n",
       "</div>"
      ],
      "text/plain": [
       "     Real Values  Predicted Values\n",
       "0              4                 2\n",
       "1              3                 0\n",
       "2              4                 0\n",
       "3              2                 2\n",
       "4              3                 0\n",
       "..           ...               ...\n",
       "215            1                 3\n",
       "216            2                 1\n",
       "217            0                 0\n",
       "218            2                 2\n",
       "219            4                 2\n",
       "\n",
       "[220 rows x 2 columns]"
      ]
     },
     "execution_count": 51,
     "metadata": {},
     "output_type": "execute_result"
    }
   ],
   "source": [
    "df_3 = pd.DataFrame({'Real Values': label_test.values.ravel(), 'Predicted Values':opt_knn_pca.predict(features_test_pca)})\n",
    "df_3"
   ]
  },
  {
   "cell_type": "code",
   "execution_count": 52,
   "metadata": {},
   "outputs": [
    {
     "data": {
      "text/plain": [
       "1.990909090909091"
      ]
     },
     "execution_count": 52,
     "metadata": {},
     "output_type": "execute_result"
    }
   ],
   "source": [
    "from sklearn.metrics import mean_squared_error\n",
    "from math import sqrt\n",
    "test_preds = opt_knn_pca.predict(features_test_pca)\n",
    "mse = mean_squared_error(label_test, test_preds)\n",
    "mse"
   ]
  },
  {
   "cell_type": "code",
   "execution_count": 53,
   "metadata": {},
   "outputs": [
    {
     "name": "stdout",
     "output_type": "stream",
     "text": [
      "K-Nearest Neighbor (PCA) accuracy= 0.594318181818182\n"
     ]
    }
   ],
   "source": [
    "print('K-Nearest Neighbor (PCA) accuracy=', cross_val_score(opt_knn_pca, features_train_pca, label_train.values.ravel(), cv=10, scoring='accuracy').mean())"
   ]
  },
  {
   "cell_type": "markdown",
   "metadata": {},
   "source": [
    "We can conclude that after PCA, the K-Nearest Neighbor algorithm didn't gain much in accuracy (0.5943 v. 0.58977). "
   ]
  },
  {
   "cell_type": "markdown",
   "metadata": {},
   "source": [
    "# Random Forest with PCA"
   ]
  },
  {
   "cell_type": "markdown",
   "metadata": {},
   "source": [
    "We repeat the same process also for Random Forest; again, we use tranformed data:"
   ]
  },
  {
   "cell_type": "code",
   "execution_count": 54,
   "metadata": {},
   "outputs": [
    {
     "name": "stdout",
     "output_type": "stream",
     "text": [
      "Fitting 3 folds for each of 50 candidates, totalling 150 fits\n"
     ]
    },
    {
     "name": "stderr",
     "output_type": "stream",
     "text": [
      "[Parallel(n_jobs=-1)]: Using backend LokyBackend with 4 concurrent workers.\n",
      "[Parallel(n_jobs=-1)]: Done  33 tasks      | elapsed:   20.0s\n",
      "[Parallel(n_jobs=-1)]: Done 150 out of 150 | elapsed:  1.6min finished\n"
     ]
    },
    {
     "data": {
      "text/plain": [
       "{'n_estimators': 494,\n",
       " 'min_samples_split': 2,\n",
       " 'min_samples_leaf': 1,\n",
       " 'max_features': 'auto',\n",
       " 'max_depth': 70,\n",
       " 'bootstrap': True}"
      ]
     },
     "execution_count": 54,
     "metadata": {},
     "output_type": "execute_result"
    }
   ],
   "source": [
    "model_pca = clf.fit(features_train_pca, label_train.values.ravel())\n",
    "# print winning set of hyperparameters\n",
    "model_pca.best_params_"
   ]
  },
  {
   "cell_type": "code",
   "execution_count": 55,
   "metadata": {},
   "outputs": [
    {
     "data": {
      "text/plain": [
       "RandomForestClassifier(max_depth=70, n_estimators=494)"
      ]
     },
     "execution_count": 55,
     "metadata": {},
     "output_type": "execute_result"
    }
   ],
   "source": [
    "opt_rnd_clf_pca = RandomForestClassifier(n_estimators = 494, min_samples_split = 2, min_samples_leaf = 1,\n",
    "                                     max_features = 'auto', max_depth = 70, bootstrap = True )\n",
    "opt_rnd_clf_pca.fit(features_train_pca, label_train.values.ravel())"
   ]
  },
  {
   "cell_type": "code",
   "execution_count": 56,
   "metadata": {},
   "outputs": [
    {
     "name": "stdout",
     "output_type": "stream",
     "text": [
      "Random forest (PCA) accuracy= 0.6318181818181817\n"
     ]
    }
   ],
   "source": [
    "print('Random forest (PCA) accuracy=',cross_val_score(opt_rnd_clf_pca, features_train_pca, label_train.values.ravel(), cv=10, scoring='accuracy').mean())"
   ]
  },
  {
   "cell_type": "code",
   "execution_count": 57,
   "metadata": {},
   "outputs": [
    {
     "data": {
      "text/html": [
       "<div>\n",
       "<style scoped>\n",
       "    .dataframe tbody tr th:only-of-type {\n",
       "        vertical-align: middle;\n",
       "    }\n",
       "\n",
       "    .dataframe tbody tr th {\n",
       "        vertical-align: top;\n",
       "    }\n",
       "\n",
       "    .dataframe thead th {\n",
       "        text-align: right;\n",
       "    }\n",
       "</style>\n",
       "<table border=\"1\" class=\"dataframe\">\n",
       "  <thead>\n",
       "    <tr style=\"text-align: right;\">\n",
       "      <th></th>\n",
       "      <th>Real Values</th>\n",
       "      <th>Predicted Values</th>\n",
       "    </tr>\n",
       "  </thead>\n",
       "  <tbody>\n",
       "    <tr>\n",
       "      <th>0</th>\n",
       "      <td>4</td>\n",
       "      <td>4</td>\n",
       "    </tr>\n",
       "    <tr>\n",
       "      <th>1</th>\n",
       "      <td>3</td>\n",
       "      <td>1</td>\n",
       "    </tr>\n",
       "    <tr>\n",
       "      <th>2</th>\n",
       "      <td>4</td>\n",
       "      <td>4</td>\n",
       "    </tr>\n",
       "    <tr>\n",
       "      <th>3</th>\n",
       "      <td>2</td>\n",
       "      <td>2</td>\n",
       "    </tr>\n",
       "    <tr>\n",
       "      <th>4</th>\n",
       "      <td>3</td>\n",
       "      <td>3</td>\n",
       "    </tr>\n",
       "    <tr>\n",
       "      <th>...</th>\n",
       "      <td>...</td>\n",
       "      <td>...</td>\n",
       "    </tr>\n",
       "    <tr>\n",
       "      <th>215</th>\n",
       "      <td>1</td>\n",
       "      <td>3</td>\n",
       "    </tr>\n",
       "    <tr>\n",
       "      <th>216</th>\n",
       "      <td>2</td>\n",
       "      <td>3</td>\n",
       "    </tr>\n",
       "    <tr>\n",
       "      <th>217</th>\n",
       "      <td>0</td>\n",
       "      <td>0</td>\n",
       "    </tr>\n",
       "    <tr>\n",
       "      <th>218</th>\n",
       "      <td>2</td>\n",
       "      <td>2</td>\n",
       "    </tr>\n",
       "    <tr>\n",
       "      <th>219</th>\n",
       "      <td>4</td>\n",
       "      <td>0</td>\n",
       "    </tr>\n",
       "  </tbody>\n",
       "</table>\n",
       "<p>220 rows × 2 columns</p>\n",
       "</div>"
      ],
      "text/plain": [
       "     Real Values  Predicted Values\n",
       "0              4                 4\n",
       "1              3                 1\n",
       "2              4                 4\n",
       "3              2                 2\n",
       "4              3                 3\n",
       "..           ...               ...\n",
       "215            1                 3\n",
       "216            2                 3\n",
       "217            0                 0\n",
       "218            2                 2\n",
       "219            4                 0\n",
       "\n",
       "[220 rows x 2 columns]"
      ]
     },
     "execution_count": 57,
     "metadata": {},
     "output_type": "execute_result"
    }
   ],
   "source": [
    "label_pred_rf_pca = opt_rnd_clf_pca.predict(features_test_pca)\n",
    "df_4 = pd.DataFrame({'Real Values': label_test.values.ravel(), 'Predicted Values':label_pred_rf_pca})\n",
    "df_4"
   ]
  },
  {
   "cell_type": "code",
   "execution_count": 58,
   "metadata": {},
   "outputs": [
    {
     "data": {
      "text/plain": [
       "Text(0.5, 1.0, 'Accuracy score: 0.6363636363636364')"
      ]
     },
     "execution_count": 58,
     "metadata": {},
     "output_type": "execute_result"
    },
    {
     "data": {
      "image/png": "[encoded data removed]",
      "text/plain": [
       "<Figure size 648x648 with 2 Axes>"
      ]
     },
     "metadata": {},
     "output_type": "display_data"
    }
   ],
   "source": [
    "from sklearn.metrics import confusion_matrix, accuracy_score\n",
    "\n",
    "conf_matr_pca = confusion_matrix(label_test, label_pred_rf_pca)\n",
    "acc_pca = accuracy_score(label_test, label_pred_rf_pca)\n",
    "\n",
    "plt.figure(figsize = (9,9))\n",
    "sns.heatmap(conf_matr_pca, annot = True, fmt = \".0f\", linewidths = 5, square = True, cmap = 'mako');\n",
    "plt.ylabel('Actual label')\n",
    "plt.xlabel('Predicted label')\n",
    "all_sample_title = 'Accuracy score: {0}'.format(acc_pca)\n",
    "plt.title(all_sample_title, size = 15)"
   ]
  },
  {
   "cell_type": "markdown",
   "metadata": {},
   "source": [
    "# Conclusions\n"
   ]
  },
  {
   "cell_type": "markdown",
   "metadata": {},
   "source": [
    "Our analysis shows that the best results are reached by the Random Forest algorithm after the application of PCA (accuracy = 0.6318). Principal Component Analysis is very useful to speed up the computation by reducing the dimensionality of the data. Plus, when you have high dimensionality with high correlated variable of one another, as in our case, the PCA can improve the accuracy of classification model."
   ]
  }
 ],
 "metadata": {
  "kernelspec": {
   "display_name": "Python 3",
   "language": "python",
   "name": "python3"
  },
  "language_info": {
   "codemirror_mode": {
    "name": "ipython",
    "version": 3
   },
   "file_extension": ".py",
   "mimetype": "text/x-python",
   "name": "python",
   "nbconvert_exporter": "python",
   "pygments_lexer": "ipython3",
   "version": "3.8.5"
  }
 },
 "nbformat": 4,
 "nbformat_minor": 4
}
